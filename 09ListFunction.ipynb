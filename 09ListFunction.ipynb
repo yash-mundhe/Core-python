{
  "cells": [
    {
      "cell_type": "markdown",
      "metadata": {
        "id": "jRtYfOAmuShL"
      },
      "source": [
        "# **Topics**"
      ]
    },
    {
      "cell_type": "markdown",
      "metadata": {
        "id": "2Mjk332iueeU"
      },
      "source": [
        "*   types of functionfunctions\n",
        "*   Append\n",
        "*   Insert\n",
        "*   remove\n",
        "*   pop\n",
        "*   split\n",
        "*   Count\n",
        "*   clear\n",
        "*   Sort\n",
        "*   reverse\n"
      ]
    },
    {
      "cell_type": "markdown",
      "metadata": {
        "id": "eJSECzxeqaw4"
      },
      "source": [
        "# **Type of Function**"
      ]
    },
    {
      "cell_type": "code",
      "execution_count": null,
      "metadata": {
        "id": "1AY7_qQommwP",
        "colab": {
          "base_uri": "https://localhost:8080/"
        },
        "outputId": "1e03b964-641c-44b3-a726-86a5d990c0fc"
      },
      "outputs": [
        {
          "output_type": "stream",
          "name": "stdout",
          "text": [
            "<class 'float'>\n",
            "<class 'bool'>\n",
            "<class 'str'>\n"
          ]
        }
      ],
      "source": [
        "x=9\n",
        "a=12.45\n",
        "b='yash'\n",
        "c=True\n",
        "print(type(a))\n",
        "print(type(c))\n",
        "print(type(b))\n",
        "\n"
      ]
    },
    {
      "cell_type": "code",
      "execution_count": null,
      "metadata": {
        "colab": {
          "base_uri": "https://localhost:8080/"
        },
        "id": "9MuYrOrq0cuX",
        "outputId": "1b9a6d67-b2b3-4f7e-b228-5b8a841058e8"
      },
      "outputs": [
        {
          "output_type": "stream",
          "name": "stdout",
          "text": [
            "<class 'int'>\n"
          ]
        }
      ],
      "source": [
        "print(type(x))\n"
      ]
    },
    {
      "cell_type": "code",
      "execution_count": null,
      "metadata": {
        "id": "1iPnLs800xdx",
        "colab": {
          "base_uri": "https://localhost:8080/"
        },
        "outputId": "d90d2e27-9a85-41c0-81e5-bc404058d4c8"
      },
      "outputs": [
        {
          "output_type": "stream",
          "name": "stdout",
          "text": [
            "<class 'bool'>\n"
          ]
        }
      ],
      "source": [
        "\n",
        "\n",
        "x=9\n",
        "a=12.45\n",
        "b=''\n",
        "c=True\n",
        "print(type(c))"
      ]
    },
    {
      "cell_type": "code",
      "execution_count": null,
      "metadata": {
        "id": "H5f_FrZt47-x",
        "colab": {
          "base_uri": "https://localhost:8080/"
        },
        "outputId": "4486ba41-dd5a-42a5-f996-1b297b12668b"
      },
      "outputs": [
        {
          "output_type": "stream",
          "name": "stdout",
          "text": [
            "<class 'list'>\n"
          ]
        }
      ],
      "source": [
        "B=[11,23,52,42,16,35,94,23]\n",
        "print(type(B))"
      ]
    },
    {
      "cell_type": "code",
      "execution_count": null,
      "metadata": {
        "id": "gPnbyfuB4H2E",
        "colab": {
          "base_uri": "https://localhost:8080/"
        },
        "outputId": "df8dc63e-513b-42ee-cad3-52e4045e6828"
      },
      "outputs": [
        {
          "output_type": "stream",
          "name": "stdout",
          "text": [
            "<class 'list'>\n"
          ]
        }
      ],
      "source": [
        "A=[\"yash\",\"sanika\",\"sarthak\",\"samiksha\",\"pratham\"]\n",
        "print(type(A))"
      ]
    },
    {
      "cell_type": "code",
      "execution_count": null,
      "metadata": {
        "id": "fbxqSc7S4ug1",
        "colab": {
          "base_uri": "https://localhost:8080/"
        },
        "outputId": "fc850941-1f21-4dd8-ed2f-9c78896f8e61"
      },
      "outputs": [
        {
          "output_type": "stream",
          "name": "stdout",
          "text": [
            "<class 'list'>\n"
          ]
        }
      ],
      "source": [
        "D=[2*5]\n",
        "print(type(D))"
      ]
    },
    {
      "cell_type": "markdown",
      "metadata": {
        "id": "5tlHaZsbqstW"
      },
      "source": [
        "**Append**"
      ]
    },
    {
      "cell_type": "markdown",
      "metadata": {
        "id": "FGWP71Pwqyn7"
      },
      "source": [
        "Add karna"
      ]
    },
    {
      "cell_type": "code",
      "execution_count": null,
      "metadata": {
        "id": "6PMzsV4n5bKM",
        "colab": {
          "base_uri": "https://localhost:8080/"
        },
        "outputId": "20d3f0c3-0e0c-489e-8117-f0d356932f98"
      },
      "outputs": [
        {
          "output_type": "stream",
          "name": "stdout",
          "text": [
            "<class 'list'>\n",
            "['yash', 'mundhe', 'sakshi', 'sarthak']\n"
          ]
        }
      ],
      "source": [
        "nm=[]\n",
        "print(type(nm))\n",
        "nm.append('yash')\n",
        "nm.append('mundhe')\n",
        "nm.append('sakshi')\n",
        "nm.append('sarthak')\n",
        "print(nm)"
      ]
    },
    {
      "cell_type": "markdown",
      "metadata": {
        "id": "_RGBtbwzrd8G"
      },
      "source": [
        "**Insert**\n"
      ]
    },
    {
      "cell_type": "code",
      "execution_count": null,
      "metadata": {
        "id": "TQQypFq250xZ",
        "colab": {
          "base_uri": "https://localhost:8080/"
        },
        "outputId": "8647a4ff-2148-4352-ab5d-b77f52ca804f"
      },
      "outputs": [
        {
          "output_type": "stream",
          "name": "stdout",
          "text": [
            "['yash', 'mundhe', 'samiksha', 'sakshi', 'piyush', 'sarthak']\n"
          ]
        }
      ],
      "source": [
        "A=['yash', 'mundhe', 'sakshi', 'sarthak']\n",
        "A.insert(2,'samiksha')                              #insert me exact posion pe dal sakte\n",
        "A.insert(-1,'piyush')\n",
        "print(A)\n"
      ]
    },
    {
      "cell_type": "markdown",
      "metadata": {
        "id": "Ql7Llc_PseCO"
      },
      "source": [
        "**remove**"
      ]
    },
    {
      "cell_type": "code",
      "execution_count": null,
      "metadata": {
        "id": "mhqIoUlA9k7Y",
        "colab": {
          "base_uri": "https://localhost:8080/"
        },
        "outputId": "3397e4bd-f14d-40dc-abf0-953a182c8d4b"
      },
      "outputs": [
        {
          "output_type": "stream",
          "name": "stdout",
          "text": [
            "['mundhe', 'sakshi', 'sarthak']\n"
          ]
        }
      ],
      "source": [
        "A=['yash', 'mundhe', 'sakshi', 'sarthak']\n",
        "A.remove('yash')\n",
        "print(A)"
      ]
    },
    {
      "cell_type": "code",
      "execution_count": null,
      "metadata": {
        "id": "PHCe4BO7AxO_",
        "colab": {
          "base_uri": "https://localhost:8080/"
        },
        "outputId": "36664ba8-6e01-4c1f-df8a-6825b7e8ad1c"
      },
      "outputs": [
        {
          "output_type": "stream",
          "name": "stdout",
          "text": [
            "[]\n"
          ]
        }
      ],
      "source": [
        "A=['yash', 'mundhe', 'sakshi', 'sarthak']\n",
        "A.clear()                                            #puri list ko khali karne ke liye use hota hai\n",
        "print(A)"
      ]
    },
    {
      "cell_type": "code",
      "execution_count": null,
      "metadata": {
        "id": "sfMJT6LDBBg-",
        "colab": {
          "base_uri": "https://localhost:8080/"
        },
        "outputId": "e749e17b-aed0-4230-f7a2-e97d7399f631"
      },
      "outputs": [
        {
          "output_type": "stream",
          "name": "stdout",
          "text": [
            "['yash', 'mundhe', 'sakshi']\n"
          ]
        }
      ],
      "source": [
        "A=['yash', 'mundhe', 'sakshi', 'sarthak']\n",
        "A.pop()\n",
        "print(A)"
      ]
    },
    {
      "cell_type": "markdown",
      "metadata": {
        "id": "vCxwEyr3s9UN"
      },
      "source": [
        "**pop**"
      ]
    },
    {
      "cell_type": "code",
      "execution_count": null,
      "metadata": {
        "id": "ll09pF7fBYOH",
        "colab": {
          "base_uri": "https://localhost:8080/"
        },
        "outputId": "e4564bd9-027a-4efe-a6c8-fddd5d372123"
      },
      "outputs": [
        {
          "output_type": "stream",
          "name": "stdout",
          "text": [
            "YASH\n"
          ]
        }
      ],
      "source": [
        "A=['YASH','MUNHDE','SAKSHI','SARTHAK']\n",
        "print(A.pop(0))                     # list se ek item nikal ke liye use hota hai\n",
        "\n"
      ]
    },
    {
      "cell_type": "code",
      "execution_count": null,
      "metadata": {
        "id": "V_uOHb_6DsxI",
        "colab": {
          "base_uri": "https://localhost:8080/"
        },
        "outputId": "885a0073-2c74-4b7f-ac53-6a81762f302d"
      },
      "outputs": [
        {
          "output_type": "stream",
          "name": "stdout",
          "text": [
            "['MUNHDE', 'SAKSHI', 'SARTHAK']\n"
          ]
        }
      ],
      "source": [
        "print(A)"
      ]
    },
    {
      "cell_type": "code",
      "execution_count": null,
      "metadata": {
        "id": "wWfY0pwSlbun",
        "colab": {
          "base_uri": "https://localhost:8080/"
        },
        "outputId": "0fe23a9d-eb92-4d2b-85c5-57c2f43d7a1b"
      },
      "outputs": [
        {
          "output_type": "stream",
          "name": "stdout",
          "text": [
            "['MUNHDE', 'SAKSHI', 'SARTHAK', 'shubham']\n"
          ]
        }
      ],
      "source": [
        "A.append(\"shubham\")\n",
        "print(A)"
      ]
    },
    {
      "cell_type": "code",
      "execution_count": null,
      "metadata": {
        "id": "4iK_KQKolj3x",
        "colab": {
          "base_uri": "https://localhost:8080/"
        },
        "outputId": "a649a8e1-03cc-44e5-93fd-c308da24d2b5"
      },
      "outputs": [
        {
          "output_type": "stream",
          "name": "stdout",
          "text": [
            "(9, 'yash', 12.3, True)\n",
            "<class 'int'>\n",
            "<class 'str'>\n",
            "<class 'float'>\n"
          ]
        }
      ],
      "source": [
        "lis=(9,'yash',12.3,True)\n",
        "print(lis)\n",
        "\n",
        "for i in range(0,3):\n",
        "  print(type(lis[i]))"
      ]
    },
    {
      "cell_type": "code",
      "execution_count": null,
      "metadata": {
        "id": "HDmwwX9ql-3P",
        "colab": {
          "base_uri": "https://localhost:8080/"
        },
        "outputId": "40585ae1-c805-4df4-d44c-3941e34accc5"
      },
      "outputs": [
        {
          "output_type": "stream",
          "name": "stdout",
          "text": [
            "('yash', 21, 50000)\n",
            "<class 'str'>\n",
            "<class 'int'>\n"
          ]
        }
      ],
      "source": [
        "L=('yash',21,50000)\n",
        "print(L)\n",
        "\n",
        "for i in range(0,2):\n",
        "   print(type(L[i]))"
      ]
    },
    {
      "cell_type": "markdown",
      "source": [
        "**Split**"
      ],
      "metadata": {
        "id": "5b7XZMEEHt-h"
      }
    },
    {
      "cell_type": "code",
      "execution_count": 4,
      "metadata": {
        "id": "ga_lV-Z3oU6Y",
        "colab": {
          "base_uri": "https://localhost:8080/"
        },
        "outputId": "e4d4bee5-a68f-4b51-ca40-c9f91e57a8ee"
      },
      "outputs": [
        {
          "output_type": "execute_result",
          "data": {
            "text/plain": [
              "['my', 'name', 'is', 'Yash']"
            ]
          },
          "metadata": {},
          "execution_count": 4
        }
      ],
      "source": [
        "name='my name is Yash'\n",
        "name.split()"
      ]
    },
    {
      "cell_type": "code",
      "execution_count": 12,
      "metadata": {
        "id": "Ze4H66sS6C74"
      },
      "outputs": [],
      "source": [
        "A='my name is yash'\n",
        "nm=A.split()\n",
        "print=('nm')"
      ]
    },
    {
      "cell_type": "code",
      "source": [
        "str=\"My name is yash and currently study at prmceam final year\"\n",
        "lst=str.split()               #yaha string ko list me convert kar diya hai\n",
        "print(lst)"
      ],
      "metadata": {
        "id": "cbSQNaJhIJ6o",
        "colab": {
          "base_uri": "https://localhost:8080/"
        },
        "outputId": "e156f2d4-0d4a-430d-d57e-0e10219c35b9"
      },
      "execution_count": 1,
      "outputs": [
        {
          "output_type": "stream",
          "name": "stdout",
          "text": [
            "['My', 'name', 'is', 'yash', 'and', 'currently', 'study', 'at', 'prmceam', 'final', 'year']\n"
          ]
        }
      ]
    },
    {
      "cell_type": "markdown",
      "source": [
        "  **Count**"
      ],
      "metadata": {
        "id": "fnkzCb7xqq18"
      }
    },
    {
      "cell_type": "code",
      "source": [
        "#y=Name.count('yash')\n",
        "#print(y)\n",
        "#lets make it simple\n",
        "print(name.count('yash'))\n",
        "print(name.count('when'))"
      ],
      "metadata": {
        "id": "xjB9e2VqKy4U",
        "colab": {
          "base_uri": "https://localhost:8080/"
        },
        "outputId": "3af6f45b-a532-425d-a16b-8fdd84275b49"
      },
      "execution_count": 6,
      "outputs": [
        {
          "output_type": "stream",
          "name": "stdout",
          "text": [
            "0\n",
            "0\n"
          ]
        }
      ]
    },
    {
      "cell_type": "markdown",
      "source": [
        "**clear**"
      ],
      "metadata": {
        "id": "43gY8qreICtJ"
      }
    },
    {
      "cell_type": "code",
      "execution_count": 7,
      "metadata": {
        "id": "i2x8sQ9ZyltN",
        "colab": {
          "base_uri": "https://localhost:8080/"
        },
        "outputId": "b849f962-0b48-4f8f-a2b4-c1655766344c"
      },
      "outputs": [
        {
          "output_type": "stream",
          "name": "stdout",
          "text": [
            "['chetan', 'sumit', 'rohan', 'eshan', 'krushna', 'harsh', 'piyush', 'nishant']\n"
          ]
        }
      ],
      "source": [
        "friends=['chetan','sumit','rohan','eshan','krushna','harsh','piyush','nishant']\n",
        "print(friends)\n"
      ]
    },
    {
      "cell_type": "code",
      "source": [
        "friends.clear()\n",
        "print(friends)"
      ],
      "metadata": {
        "id": "fmCQaUAUEfzK",
        "colab": {
          "base_uri": "https://localhost:8080/"
        },
        "outputId": "e82c12e1-e706-4c03-ceae-adcfca637e94"
      },
      "execution_count": 8,
      "outputs": [
        {
          "output_type": "stream",
          "name": "stdout",
          "text": [
            "[]\n"
          ]
        }
      ]
    },
    {
      "cell_type": "markdown",
      "source": [
        "**Sort**"
      ],
      "metadata": {
        "id": "fZuaIbi-L-x3"
      }
    },
    {
      "cell_type": "code",
      "source": [
        "friends=['chetan','sumit','rohan','eshan','krushna','harsh','piyush','nishant']\n",
        "friends.sort()                #arrange karta hai alphabetically\n",
        "print(friends)"
      ],
      "metadata": {
        "id": "hPjP96azE4Hq",
        "colab": {
          "base_uri": "https://localhost:8080/"
        },
        "outputId": "b6836dde-eff9-47da-fb48-b2761488c85b"
      },
      "execution_count": 9,
      "outputs": [
        {
          "output_type": "stream",
          "name": "stdout",
          "text": [
            "['chetan', 'eshan', 'harsh', 'krushna', 'nishant', 'piyush', 'rohan', 'sumit']\n"
          ]
        }
      ]
    },
    {
      "cell_type": "markdown",
      "source": [
        "**reverse**"
      ],
      "metadata": {
        "id": "jmNV4-twOWPL"
      }
    },
    {
      "cell_type": "code",
      "source": [
        "friends.reverse()             #order ko ulta kar deta hai\n",
        "print(friends)\n"
      ],
      "metadata": {
        "id": "nLM_-N0dGhAd",
        "colab": {
          "base_uri": "https://localhost:8080/"
        },
        "outputId": "deaf2bb8-b17f-4262-c986-c896b4c49bfc"
      },
      "execution_count": 10,
      "outputs": [
        {
          "output_type": "stream",
          "name": "stdout",
          "text": [
            "['sumit', 'rohan', 'piyush', 'nishant', 'krushna', 'harsh', 'eshan', 'chetan']\n"
          ]
        }
      ]
    },
    {
      "cell_type": "code",
      "source": [
        "friends.sort(reverse=True)\n",
        "print(friends)"
      ],
      "metadata": {
        "id": "Z1n98AH9NBEW",
        "colab": {
          "base_uri": "https://localhost:8080/"
        },
        "outputId": "7f4dd4ba-62bd-4cf9-ad13-6bc350ca2161"
      },
      "execution_count": 11,
      "outputs": [
        {
          "output_type": "stream",
          "name": "stdout",
          "text": [
            "['sumit', 'rohan', 'piyush', 'nishant', 'krushna', 'harsh', 'eshan', 'chetan']\n"
          ]
        }
      ]
    },
    {
      "cell_type": "code",
      "source": [],
      "metadata": {
        "id": "nMLZjqtDB32p"
      },
      "execution_count": null,
      "outputs": []
    }
  ],
  "metadata": {
    "colab": {
      "provenance": []
    },
    "kernelspec": {
      "display_name": "Python 3",
      "name": "python3"
    },
    "language_info": {
      "name": "python"
    }
  },
  "nbformat": 4,
  "nbformat_minor": 0
}