{
  "nbformat": 4,
  "nbformat_minor": 0,
  "metadata": {
    "colab": {
      "provenance": []
    },
    "kernelspec": {
      "name": "python3",
      "display_name": "Python 3"
    },
    "language_info": {
      "name": "python"
    }
  },
  "cells": [
    {
      "cell_type": "markdown",
      "source": [],
      "metadata": {
        "id": "eKi9OJ2UeimW"
      }
    },
    {
      "cell_type": "code",
      "execution_count": null,
      "metadata": {
        "id": "pC5atOj4eW-t"
      },
      "outputs": [],
      "source": [
        "nm='doly chai vala'"
      ]
    },
    {
      "cell_type": "code",
      "source": [
        "print(nm.upper())          #pura capital kar deta hai\n",
        "print(nm.lower())          #pura samll karta hai\n",
        "print(nm.title())          #sab iska pahila word captital\n",
        "print(nm.capitalize())     #sirf line ke starting ka word capital"
      ],
      "metadata": {
        "colab": {
          "base_uri": "https://localhost:8080/"
        },
        "id": "mAjux0jQe7Zy",
        "outputId": "4d47a5ea-c452-4d8e-b7e2-a1546ebd5345"
      },
      "execution_count": null,
      "outputs": [
        {
          "output_type": "stream",
          "name": "stdout",
          "text": [
            "DOLY CHAI VALA\n",
            "doly chai vala\n",
            "Doly Chai Vala\n",
            "Doly chai vala\n"
          ]
        }
      ]
    },
    {
      "cell_type": "markdown",
      "source": [
        "strip\n"
      ],
      "metadata": {
        "id": "VhsMk2yngPqZ"
      }
    },
    {
      "cell_type": "code",
      "source": [
        "nm='   yash   '\n",
        "print(nm.strip())         #ye dono side ke spaces nikal ta hai\n",
        "print(nm.lstrip())        #left vali spaces nikalta hai\n",
        "print(nm.rstrip())        #right vale space nikalta hai"
      ],
      "metadata": {
        "colab": {
          "base_uri": "https://localhost:8080/"
        },
        "id": "d1RbrpE3fLpg",
        "outputId": "0326b1fd-9b4d-417e-cb1a-fade528fa272"
      },
      "execution_count": null,
      "outputs": [
        {
          "output_type": "stream",
          "name": "stdout",
          "text": [
            "yash\n",
            "yash   \n",
            "   yash\n"
          ]
        }
      ]
    },
    {
      "cell_type": "markdown",
      "source": [
        "Replace\n"
      ],
      "metadata": {
        "id": "TLKIqcJuht0v"
      }
    },
    {
      "cell_type": "code",
      "source": [
        "nm='yash mundhe'\n",
        "nm=nm.replace('yash','sakshi')       #repacement ke liye use hota hai\n",
        "print(nm)"
      ],
      "metadata": {
        "colab": {
          "base_uri": "https://localhost:8080/"
        },
        "id": "sbYzA3qNg4_7",
        "outputId": "ba97b12a-df84-4e2b-f09e-c9fa43304cfe"
      },
      "execution_count": null,
      "outputs": [
        {
          "output_type": "stream",
          "name": "stdout",
          "text": [
            "sakshi mundhe\n"
          ]
        }
      ]
    },
    {
      "cell_type": "markdown",
      "source": [
        "split"
      ],
      "metadata": {
        "id": "ujrbfFn3ishS"
      }
    },
    {
      "cell_type": "code",
      "source": [
        "nm='yash sakshi sanika sarthak samikasha'\n",
        "print(nm.split())                               #har word ko split karne ke liye use hota hai"
      ],
      "metadata": {
        "colab": {
          "base_uri": "https://localhost:8080/"
        },
        "id": "kaN0oZVziuRh",
        "outputId": "bb4ad8f7-ec97-40ba-a12f-a4b40697377a"
      },
      "execution_count": null,
      "outputs": [
        {
          "output_type": "stream",
          "name": "stdout",
          "text": [
            "['yash', 'sakshi', 'sanika', 'sarthak', 'samikasha']\n"
          ]
        }
      ]
    },
    {
      "cell_type": "code",
      "source": [
        "nm='yash sakshi,sanika sarthak samikasha'\n",
        "print(nm.split(','))                            #ho bhi sigh ko andar dalenge usse vo split hoga"
      ],
      "metadata": {
        "colab": {
          "base_uri": "https://localhost:8080/"
        },
        "id": "CGmEzebPjATh",
        "outputId": "40d351c7-e1ee-4fd6-d177-55d783d91fd0"
      },
      "execution_count": null,
      "outputs": [
        {
          "output_type": "stream",
          "name": "stdout",
          "text": [
            "['yash sakshi', 'sanika sarthak samikasha']\n"
          ]
        }
      ]
    },
    {
      "cell_type": "markdown",
      "source": [
        "Find\n"
      ],
      "metadata": {
        "id": "BhAB_IXgkDhZ"
      }
    },
    {
      "cell_type": "code",
      "source": [
        "n='samiksha'\n",
        "print(n.find('s'))         #posision batata hai kitne no. vo word hai vo\n",
        "print(n.find('y'))         #aagar vo word vaha pe nhi hai to -1 bolega\n",
        "print(n.find('a'))\n",
        "print(n.rfind('a'))        #aagar do word same ho to rfind use hota hai"
      ],
      "metadata": {
        "colab": {
          "base_uri": "https://localhost:8080/"
        },
        "id": "Usm949zrjPiT",
        "outputId": "a2e80473-6b37-44cf-8297-3807a0dc31de"
      },
      "execution_count": null,
      "outputs": [
        {
          "output_type": "stream",
          "name": "stdout",
          "text": [
            "0\n",
            "-1\n",
            "1\n",
            "7\n"
          ]
        }
      ]
    },
    {
      "cell_type": "code",
      "source": [
        "nm='MG-hector is my favorite car'\n",
        "print(nm.find('my'))"
      ],
      "metadata": {
        "colab": {
          "base_uri": "https://localhost:8080/"
        },
        "id": "hpFrv8dkra4i",
        "outputId": "5fd42193-f434-4a84-c256-726f9e969a1e"
      },
      "execution_count": null,
      "outputs": [
        {
          "output_type": "stream",
          "name": "stdout",
          "text": [
            "13\n"
          ]
        }
      ]
    },
    {
      "cell_type": "markdown",
      "source": [
        "index"
      ],
      "metadata": {
        "id": "aMRnr6HJov4e"
      }
    },
    {
      "cell_type": "code",
      "source": [
        "n='samiksha'\n",
        "print(n.index('k'))         #posision batata hai kitne no. vo word hai vo\n"
      ],
      "metadata": {
        "colab": {
          "base_uri": "https://localhost:8080/"
        },
        "id": "ytnoEAGQkjqA",
        "outputId": "7e9eff88-60de-4c88-d274-e1ee0bdfa7ed"
      },
      "execution_count": null,
      "outputs": [
        {
          "output_type": "stream",
          "name": "stdout",
          "text": [
            "4\n"
          ]
        }
      ]
    },
    {
      "cell_type": "code",
      "source": [
        "n='samiksha'\n",
        "print(n.index('y'))        #aagar vo word present nhi hoga to error aayega"
      ],
      "metadata": {
        "colab": {
          "base_uri": "https://localhost:8080/",
          "height": 161
        },
        "id": "CAqkefoBpANv",
        "outputId": "654c9014-5d02-41b6-e817-2a3ee04de113"
      },
      "execution_count": null,
      "outputs": [
        {
          "output_type": "error",
          "ename": "ValueError",
          "evalue": "substring not found",
          "traceback": [
            "\u001b[0;31m---------------------------------------------------------------------------\u001b[0m",
            "\u001b[0;31mValueError\u001b[0m                                Traceback (most recent call last)",
            "\u001b[0;32m/tmp/ipython-input-47-3346210730.py\u001b[0m in \u001b[0;36m<cell line: 0>\u001b[0;34m()\u001b[0m\n\u001b[1;32m      1\u001b[0m \u001b[0mn\u001b[0m\u001b[0;34m=\u001b[0m\u001b[0;34m'samiksha'\u001b[0m\u001b[0;34m\u001b[0m\u001b[0;34m\u001b[0m\u001b[0m\n\u001b[0;32m----> 2\u001b[0;31m \u001b[0mprint\u001b[0m\u001b[0;34m(\u001b[0m\u001b[0mn\u001b[0m\u001b[0;34m.\u001b[0m\u001b[0mindex\u001b[0m\u001b[0;34m(\u001b[0m\u001b[0;34m'y'\u001b[0m\u001b[0;34m)\u001b[0m\u001b[0;34m)\u001b[0m\u001b[0;34m\u001b[0m\u001b[0;34m\u001b[0m\u001b[0m\n\u001b[0m",
            "\u001b[0;31mValueError\u001b[0m: substring not found"
          ]
        }
      ]
    },
    {
      "cell_type": "markdown",
      "source": [
        "**dfference bet. index and find**\n",
        "Find= *Agar substring nahi milta, to -1 return karta hai.*               \n",
        "Index= *Agar substring nahi milta, to ValueError deta hai (program crash ho sakta hai agar handle na kare)*"
      ],
      "metadata": {
        "id": "Z9pjq28ypyja"
      }
    },
    {
      "cell_type": "markdown",
      "source": [
        "join\n"
      ],
      "metadata": {
        "id": "I0On1tcesDia"
      }
    },
    {
      "cell_type": "code",
      "source": [
        "print('-'.join(['yash','mundhe','sakshi']))"
      ],
      "metadata": {
        "colab": {
          "base_uri": "https://localhost:8080/"
        },
        "id": "TTHjvniWpXlo",
        "outputId": "3e299782-e3e7-42b1-9c9f-b028dc92d4e2"
      },
      "execution_count": null,
      "outputs": [
        {
          "output_type": "stream",
          "name": "stdout",
          "text": [
            "yash-mundhe-sakshi\n"
          ]
        }
      ]
    },
    {
      "cell_type": "code",
      "source": [
        "nm='bachna ye hasino lo me aaa gaya'\n",
        "print(nm.count('y'))\n",
        "print(nm.count('a'))"
      ],
      "metadata": {
        "colab": {
          "base_uri": "https://localhost:8080/"
        },
        "id": "_-TnVZx4sQ_x",
        "outputId": "ce2972f5-2f88-4169-d6db-5b2cc5525148"
      },
      "execution_count": null,
      "outputs": [
        {
          "output_type": "stream",
          "name": "stdout",
          "text": [
            "2\n",
            "8\n"
          ]
        }
      ]
    },
    {
      "cell_type": "markdown",
      "source": [
        "startswith and endswith"
      ],
      "metadata": {
        "id": "oS8UbeFE1zlF"
      }
    },
    {
      "cell_type": "code",
      "source": [
        "nm='I am the owner of this house'\n",
        "print(nm.startswith('I'))              #us starting me chack karega hai ki nhi hoga to true nhi to false\n",
        "print(nm.startswith('what'))\n",
        "print(nm.endswith('home'))             #us ends me chack karega hai ki nhi hoga to true nhi to false\n",
        "print(nm.endswith('house'))"
      ],
      "metadata": {
        "id": "ShjfKGQjtmOO",
        "colab": {
          "base_uri": "https://localhost:8080/"
        },
        "outputId": "3c3ce9e4-cbc1-421f-ffcc-157050368a62"
      },
      "execution_count": null,
      "outputs": [
        {
          "output_type": "stream",
          "name": "stdout",
          "text": [
            "True\n",
            "False\n",
            "False\n",
            "True\n"
          ]
        }
      ]
    },
    {
      "cell_type": "code",
      "source": [
        "nm='Yash Mundhe'\n",
        "print(nm.swapcase())"
      ],
      "metadata": {
        "id": "qTOioxOx2YzA",
        "colab": {
          "base_uri": "https://localhost:8080/"
        },
        "outputId": "32e90b56-2cac-41b1-9eda-38070fb9a499"
      },
      "execution_count": null,
      "outputs": [
        {
          "output_type": "stream",
          "name": "stdout",
          "text": [
            "yASH mUNDHE\n"
          ]
        }
      ]
    },
    {
      "cell_type": "code",
      "source": [
        "n='15'\n",
        "print(n.zfill(5))"
      ],
      "metadata": {
        "colab": {
          "base_uri": "https://localhost:8080/"
        },
        "id": "pu3zuL8W0uN1",
        "outputId": "c037314a-0971-4d40-95cc-0ccb52bc1cdd"
      },
      "execution_count": null,
      "outputs": [
        {
          "output_type": "stream",
          "name": "stdout",
          "text": [
            "00015\n"
          ]
        }
      ]
    },
    {
      "cell_type": "code",
      "source": [
        "n='60'\n",
        "print(n.ljust(20,'#'))\n",
        "print(n.rjust(10,'#'))\n",
        "print(n.center(10,'#'))"
      ],
      "metadata": {
        "colab": {
          "base_uri": "https://localhost:8080/"
        },
        "id": "wjLYAlF_1V9H",
        "outputId": "4510a7f8-f4f1-43a6-b85f-6a80ad5f16dd"
      },
      "execution_count": null,
      "outputs": [
        {
          "output_type": "stream",
          "name": "stdout",
          "text": [
            "60##################\n",
            "########60\n",
            "####60####\n"
          ]
        }
      ]
    },
    {
      "cell_type": "code",
      "source": [
        "a='thanks {} you are good in {}'\n",
        "print(a.format('yash','drowing'))\n"
      ],
      "metadata": {
        "id": "DOzIDYt72G-M",
        "colab": {
          "base_uri": "https://localhost:8080/"
        },
        "outputId": "66444584-c083-4986-d890-0ec967d657d1"
      },
      "execution_count": null,
      "outputs": [
        {
          "output_type": "stream",
          "name": "stdout",
          "text": [
            "thanks yash you are good in drowing\n"
          ]
        }
      ]
    },
    {
      "cell_type": "code",
      "source": [
        "msg='hellow {} you got {} scholarship'\n",
        "print(msg.format('yash','80'))"
      ],
      "metadata": {
        "colab": {
          "base_uri": "https://localhost:8080/"
        },
        "id": "phQEJluQxM0X",
        "outputId": "ffef2878-0805-447a-e753-befc307eae6d"
      },
      "execution_count": null,
      "outputs": [
        {
          "output_type": "stream",
          "name": "stdout",
          "text": [
            "hellow yash you got 80 scholarship\n"
          ]
        }
      ]
    },
    {
      "cell_type": "code",
      "source": [],
      "metadata": {
        "id": "VpwpANV0ydOG"
      },
      "execution_count": null,
      "outputs": []
    }
  ]
}