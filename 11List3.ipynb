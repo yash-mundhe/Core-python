{
  "nbformat": 4,
  "nbformat_minor": 0,
  "metadata": {
    "colab": {
      "provenance": []
    },
    "kernelspec": {
      "name": "python3",
      "display_name": "Python 3"
    },
    "language_info": {
      "name": "python"
    }
  },
  "cells": [
    {
      "cell_type": "code",
      "execution_count": 17,
      "metadata": {
        "colab": {
          "base_uri": "https://localhost:8080/"
        },
        "id": "BndSRrh1EbLu",
        "outputId": "0461cab5-a875-4fe1-a094-1547913c21c4"
      },
      "outputs": [
        {
          "output_type": "stream",
          "name": "stdout",
          "text": [
            "['iron man', 'spyder man', 'captain america', ['guardians of galaxy', 'black wido', 'deadpool']]\n"
          ]
        }
      ],
      "source": [
        "marval=['iron man','spyder man','captain america',['guardians of galaxy','black wido','deadpool']]\n",
        "print(marval)"
      ]
    },
    {
      "cell_type": "code",
      "source": [
        "print(marval[2])\n",
        "print(marval[3])\n",
        "print(marval[3][2])"
      ],
      "metadata": {
        "colab": {
          "base_uri": "https://localhost:8080/"
        },
        "id": "mNmYP62LGaU0",
        "outputId": "1043c14d-6298-4c96-8875-fd0cc98e0d88"
      },
      "execution_count": 18,
      "outputs": [
        {
          "output_type": "stream",
          "name": "stdout",
          "text": [
            "captain america\n",
            "['guardians of galaxy', 'black wido', 'deadpool']\n",
            "deadpool\n"
          ]
        }
      ]
    },
    {
      "cell_type": "code",
      "source": [
        "marval.append('moon knight')\n",
        "print(marval)"
      ],
      "metadata": {
        "colab": {
          "base_uri": "https://localhost:8080/"
        },
        "id": "TbwtJ6hEGlfP",
        "outputId": "704038b8-e085-41e3-c0fd-60377fd3b331"
      },
      "execution_count": 19,
      "outputs": [
        {
          "output_type": "stream",
          "name": "stdout",
          "text": [
            "['iron man', 'spyder man', 'captain america', ['guardians of galaxy', 'black wido', 'deadpool'], 'moon knight']\n"
          ]
        }
      ]
    },
    {
      "cell_type": "code",
      "source": [
        "marval[3].append('black panther')\n",
        "print(marval)"
      ],
      "metadata": {
        "colab": {
          "base_uri": "https://localhost:8080/"
        },
        "id": "Fj4wzrrbH0l-",
        "outputId": "e0a465dd-1faa-4e61-bf4d-73a93f50e09a"
      },
      "execution_count": 20,
      "outputs": [
        {
          "output_type": "stream",
          "name": "stdout",
          "text": [
            "['iron man', 'spyder man', 'captain america', ['guardians of galaxy', 'black wido', 'deadpool', 'black panther'], 'moon knight']\n"
          ]
        }
      ]
    },
    {
      "cell_type": "code",
      "source": [
        "lst=[\n",
        "    [15,46,85,12],\n",
        "    [85,94,36,44],\n",
        "    [95,53,46,81]\n",
        "]"
      ],
      "metadata": {
        "id": "ipyyCXwaIabI"
      },
      "execution_count": 23,
      "outputs": []
    },
    {
      "cell_type": "code",
      "source": [
        "print(lst[2][3])"
      ],
      "metadata": {
        "colab": {
          "base_uri": "https://localhost:8080/"
        },
        "id": "OcOqTKybI8OG",
        "outputId": "1ed3e572-0b16-45c4-a883-ab1b6e038eeb"
      },
      "execution_count": 25,
      "outputs": [
        {
          "output_type": "stream",
          "name": "stdout",
          "text": [
            "81\n"
          ]
        }
      ]
    },
    {
      "cell_type": "code",
      "source": [],
      "metadata": {
        "id": "QmoebjWHJOfw"
      },
      "execution_count": null,
      "outputs": []
    }
  ]
}