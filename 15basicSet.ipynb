{
  "nbformat": 4,
  "nbformat_minor": 0,
  "metadata": {
    "colab": {
      "provenance": []
    },
    "kernelspec": {
      "name": "python3",
      "display_name": "Python 3"
    },
    "language_info": {
      "name": "python"
    }
  },
  "cells": [
    {
      "cell_type": "markdown",
      "source": [
        "# **Set**"
      ],
      "metadata": {
        "id": "lMQvFZic9pBp"
      }
    },
    {
      "cell_type": "markdown",
      "source": [
        "**indicate by { }**"
      ],
      "metadata": {
        "id": "y-j-NV2794Fh"
      }
    },
    {
      "cell_type": "code",
      "execution_count": 30,
      "metadata": {
        "id": "Kt7Pa-kLae75",
        "colab": {
          "base_uri": "https://localhost:8080/"
        },
        "outputId": "f7f23773-04d0-4af3-ddbf-a0b27eefcc49"
      },
      "outputs": [
        {
          "output_type": "stream",
          "name": "stdout",
          "text": [
            "<class 'set'>\n",
            "{'vishal', 'prashant', 'rahul', 'shreepad', 'shubham'}\n"
          ]
        }
      ],
      "source": [
        "nm={'vishal','prashant','rahul','shreepad','shubham'} #it is an set\n",
        "print(type(nm))\n",
        "print(nm)"
      ]
    },
    {
      "cell_type": "markdown",
      "source": [
        "**#Dupicates is not allowed**"
      ],
      "metadata": {
        "id": "uPBbb5Zb-fqx"
      }
    },
    {
      "cell_type": "code",
      "source": [
        "film={'fourd vs  farari','sita raman','batman','batman'}\n",
        "print(film)\n"
      ],
      "metadata": {
        "colab": {
          "base_uri": "https://localhost:8080/"
        },
        "id": "nsv9iES16OfX",
        "outputId": "b036eb55-cb98-40c7-a257-9a1aea043c2d"
      },
      "execution_count": 31,
      "outputs": [
        {
          "output_type": "stream",
          "name": "stdout",
          "text": [
            "{'sita raman', 'fourd vs  farari', 'batman'}\n"
          ]
        }
      ]
    },
    {
      "cell_type": "markdown",
      "source": [
        "**Add**"
      ],
      "metadata": {
        "id": "eb2H7wEgYjSh"
      }
    },
    {
      "cell_type": "code",
      "source": [
        "film.add('cooli')\n",
        "film.add('vikram')\n",
        "print(film)"
      ],
      "metadata": {
        "colab": {
          "base_uri": "https://localhost:8080/"
        },
        "id": "RFMi4z0Y7r5C",
        "outputId": "48310ccb-a2e7-4f6c-8427-8d6ec223e9f2"
      },
      "execution_count": 32,
      "outputs": [
        {
          "output_type": "stream",
          "name": "stdout",
          "text": [
            "{'fourd vs  farari', 'cooli', 'sita raman', 'vikram', 'batman'}\n"
          ]
        }
      ]
    },
    {
      "cell_type": "markdown",
      "source": [
        "**Remove**"
      ],
      "metadata": {
        "id": "hl8sBNT_YnNK"
      }
    },
    {
      "cell_type": "code",
      "source": [
        "film.remove('batman')\n",
        "print(film)\n",
        "#set is mutable(change kiya jasakat hai)"
      ],
      "metadata": {
        "id": "rnuZtCDA9Hs3",
        "colab": {
          "base_uri": "https://localhost:8080/"
        },
        "outputId": "23541296-d6ff-45c1-e470-838f031400cc"
      },
      "execution_count": 33,
      "outputs": [
        {
          "output_type": "stream",
          "name": "stdout",
          "text": [
            "{'fourd vs  farari', 'cooli', 'sita raman', 'vikram'}\n"
          ]
        }
      ]
    },
    {
      "cell_type": "code",
      "source": [
        "print(film[0])\n",
        "#sets in Python don’t support indexing like lists or tuples.\n"
      ],
      "metadata": {
        "colab": {
          "base_uri": "https://localhost:8080/",
          "height": 159
        },
        "id": "sPMCz6pOYXUh",
        "outputId": "f9f94bd4-2af7-41bd-a56c-41f6708ac158"
      },
      "execution_count": 34,
      "outputs": [
        {
          "output_type": "error",
          "ename": "TypeError",
          "evalue": "'set' object is not subscriptable",
          "traceback": [
            "\u001b[0;31m---------------------------------------------------------------------------\u001b[0m",
            "\u001b[0;31mTypeError\u001b[0m                                 Traceback (most recent call last)",
            "\u001b[0;32m/tmp/ipython-input-2670821861.py\u001b[0m in \u001b[0;36m<cell line: 0>\u001b[0;34m()\u001b[0m\n\u001b[0;32m----> 1\u001b[0;31m \u001b[0mprint\u001b[0m\u001b[0;34m(\u001b[0m\u001b[0mfilm\u001b[0m\u001b[0;34m[\u001b[0m\u001b[0;36m0\u001b[0m\u001b[0;34m]\u001b[0m\u001b[0;34m)\u001b[0m\u001b[0;34m\u001b[0m\u001b[0;34m\u001b[0m\u001b[0m\n\u001b[0m\u001b[1;32m      2\u001b[0m \u001b[0;31m#sets in Python don’t support indexing like lists or tuples.\u001b[0m\u001b[0;34m\u001b[0m\u001b[0;34m\u001b[0m\u001b[0m\n",
            "\u001b[0;31mTypeError\u001b[0m: 'set' object is not subscriptable"
          ]
        }
      ]
    },
    {
      "cell_type": "markdown",
      "source": [
        "**pop**"
      ],
      "metadata": {
        "id": "L-GgYWv9cwik"
      }
    },
    {
      "cell_type": "code",
      "source": [
        "print(film.pop())\n",
        "print(film)"
      ],
      "metadata": {
        "colab": {
          "base_uri": "https://localhost:8080/"
        },
        "id": "sCf95I3jcFcR",
        "outputId": "ed447a43-c837-497e-e2ca-e9be73839db4"
      },
      "execution_count": 35,
      "outputs": [
        {
          "output_type": "stream",
          "name": "stdout",
          "text": [
            "fourd vs  farari\n",
            "{'cooli', 'sita raman', 'vikram'}\n"
          ]
        }
      ]
    },
    {
      "cell_type": "markdown",
      "source": [
        "* **len**\n",
        "* **max**\n",
        "* **min**\n"
      ],
      "metadata": {
        "id": "XZelhig9c3Cy"
      }
    },
    {
      "cell_type": "code",
      "source": [
        "print(len(film))\n",
        "print(max(film))\n",
        "print(min(film))"
      ],
      "metadata": {
        "colab": {
          "base_uri": "https://localhost:8080/"
        },
        "id": "Is0FA32hcTjK",
        "outputId": "b8797a27-3d98-484d-d379-b9158431e496"
      },
      "execution_count": 37,
      "outputs": [
        {
          "output_type": "stream",
          "name": "stdout",
          "text": [
            "3\n",
            "vikram\n",
            "cooli\n"
          ]
        }
      ]
    },
    {
      "cell_type": "code",
      "source": [],
      "metadata": {
        "id": "42AxigcHdegP"
      },
      "execution_count": null,
      "outputs": []
    }
  ]
}