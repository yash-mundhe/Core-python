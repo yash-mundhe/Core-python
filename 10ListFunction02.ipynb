{
  "nbformat": 4,
  "nbformat_minor": 0,
  "metadata": {
    "colab": {
      "provenance": []
    },
    "kernelspec": {
      "name": "python3",
      "display_name": "Python 3"
    },
    "language_info": {
      "name": "python"
    }
  },
  "cells": [
    {
      "cell_type": "markdown",
      "source": [
        "*Extend*"
      ],
      "metadata": {
        "id": "IVEuAZK0ckkC"
      }
    },
    {
      "cell_type": "code",
      "execution_count": null,
      "metadata": {
        "id": "TvI0de2ScaOY"
      },
      "outputs": [],
      "source": [
        "films=['vikram','leo','kaithi']\n",
        "actors=['kamal hasan','vijay thalaoathy','karthi']"
      ]
    },
    {
      "cell_type": "code",
      "source": [
        "films.extend(actors)\n",
        "print(films)"
      ],
      "metadata": {
        "colab": {
          "base_uri": "https://localhost:8080/"
        },
        "id": "biIIGND7dwh6",
        "outputId": "a4ee39de-8972-4148-d76c-e41ab41da1a9"
      },
      "execution_count": null,
      "outputs": [
        {
          "output_type": "stream",
          "name": "stdout",
          "text": [
            "['vikram', 'leo', 'kaithi', 'kamal hasan', 'vijay thalaoathy', 'karthi']\n"
          ]
        }
      ]
    },
    {
      "cell_type": "markdown",
      "source": [
        "# **Retrival elements from list**"
      ],
      "metadata": {
        "id": "DMnsaqJHeemU"
      }
    },
    {
      "cell_type": "code",
      "source": [
        "favFilms=['Vikeam','Tare jamin par','gazni','sita ramn','ford vs farari','fast and furious']"
      ],
      "metadata": {
        "id": "xcwkTZiQd4am"
      },
      "execution_count": null,
      "outputs": []
    },
    {
      "cell_type": "code",
      "source": [
        "print(favFilms[0:3])"
      ],
      "metadata": {
        "colab": {
          "base_uri": "https://localhost:8080/"
        },
        "id": "AcwOR3wqfhTJ",
        "outputId": "b2528486-3c16-4972-bdaa-bb4039fc9b0c"
      },
      "execution_count": null,
      "outputs": [
        {
          "output_type": "stream",
          "name": "stdout",
          "text": [
            "['Vikeam', 'Tare jamin par', 'gazni']\n"
          ]
        }
      ]
    },
    {
      "cell_type": "code",
      "source": [
        "print(favFilms[1:3])"
      ],
      "metadata": {
        "colab": {
          "base_uri": "https://localhost:8080/"
        },
        "id": "-v6kUMEfg9t3",
        "outputId": "4dd9f95b-39c3-40c8-e0e6-06aaf14ac160"
      },
      "execution_count": null,
      "outputs": [
        {
          "output_type": "stream",
          "name": "stdout",
          "text": [
            "['Tare jamin par', 'gazni']\n"
          ]
        }
      ]
    },
    {
      "cell_type": "code",
      "source": [
        "print(favFilms[3:])"
      ],
      "metadata": {
        "colab": {
          "base_uri": "https://localhost:8080/"
        },
        "id": "sXPtiNz1hg-Y",
        "outputId": "9f1b8ee7-bb84-42d2-8502-b356ad4e44f7"
      },
      "execution_count": null,
      "outputs": [
        {
          "output_type": "stream",
          "name": "stdout",
          "text": [
            "['sita ramn', 'ford vs farari', 'fast and furious']\n"
          ]
        }
      ]
    },
    {
      "cell_type": "code",
      "source": [
        "print(favFilms[-1])"
      ],
      "metadata": {
        "colab": {
          "base_uri": "https://localhost:8080/"
        },
        "id": "7TWcfkU5hrU5",
        "outputId": "75a5a955-9114-433c-c6ee-52efbb89950c"
      },
      "execution_count": null,
      "outputs": [
        {
          "output_type": "stream",
          "name": "stdout",
          "text": [
            "fast and furious\n"
          ]
        }
      ]
    },
    {
      "cell_type": "code",
      "source": [
        "print(favFilms[:3])"
      ],
      "metadata": {
        "colab": {
          "base_uri": "https://localhost:8080/"
        },
        "id": "ApgrqJ8jh0ke",
        "outputId": "00364e2c-ef3d-4309-f71f-a89e54b89aad"
      },
      "execution_count": null,
      "outputs": [
        {
          "output_type": "stream",
          "name": "stdout",
          "text": [
            "['Vikeam', 'Tare jamin par', 'gazni']\n"
          ]
        }
      ]
    },
    {
      "cell_type": "code",
      "source": [
        "print(favFilms[::-1])"
      ],
      "metadata": {
        "colab": {
          "base_uri": "https://localhost:8080/"
        },
        "id": "tZcnmiBhh8PZ",
        "outputId": "c56741f4-9dc3-4c25-d301-596ea3e9e404"
      },
      "execution_count": null,
      "outputs": [
        {
          "output_type": "stream",
          "name": "stdout",
          "text": [
            "['fast and furious', 'ford vs farari', 'sita ramn', 'gazni', 'Tare jamin par', 'Vikeam']\n"
          ]
        }
      ]
    },
    {
      "cell_type": "code",
      "source": [],
      "metadata": {
        "id": "9FkqbPGwiacb"
      },
      "execution_count": null,
      "outputs": []
    }
  ]
}