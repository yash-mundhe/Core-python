{
  "nbformat": 4,
  "nbformat_minor": 0,
  "metadata": {
    "colab": {
      "provenance": []
    },
    "kernelspec": {
      "name": "python3",
      "display_name": "Python 3"
    },
    "language_info": {
      "name": "python"
    }
  },
  "cells": [
    {
      "cell_type": "markdown",
      "source": [
        "**Example of If-else statement**"
      ],
      "metadata": {
        "id": "_GRTE38upAMR"
      }
    },
    {
      "cell_type": "code",
      "source": [
        "A=input('what is your name: ')\n",
        "B=int(input('what is your age: '))\n",
        "if B<=30:\n",
        "  print('you are eligibal ')\n",
        "else:\n",
        "  print('you are not eligibal ')"
      ],
      "metadata": {
        "colab": {
          "base_uri": "https://localhost:8080/"
        },
        "id": "DWhIeYSLoUVj",
        "outputId": "b107a104-fb58-4887-b605-840511854cbe"
      },
      "execution_count": null,
      "outputs": [
        {
          "output_type": "stream",
          "name": "stdout",
          "text": [
            "what is your name: yash\n",
            "what is your age: 31\n",
            "you are not eligibal \n"
          ]
        }
      ]
    },
    {
      "cell_type": "code",
      "execution_count": null,
      "metadata": {
        "id": "TcTgifJfp8g9",
        "colab": {
          "base_uri": "https://localhost:8080/"
        },
        "outputId": "5f3dc546-0905-4087-a898-ea81d5475da3"
      },
      "outputs": [
        {
          "output_type": "stream",
          "name": "stdout",
          "text": [
            "Enter your name: yash\n",
            "Enter your marks: 562\n",
            "congratulations yash you are passed \n",
            "you got 70.25 %\n"
          ]
        }
      ],
      "source": [
        "A=input('Enter your name: ')\n",
        "B=int(input('Enter your marks: '))\n",
        "C=(B/800)*100\n",
        "if C>=35:\n",
        "   print(f'congratulations {A} you are passed ')\n",
        "   print(f'you got {C} %')\n",
        "else:\n",
        "  print('you are fail in exam')\n",
        "  print('you got {C} %')"
      ]
    },
    {
      "cell_type": "code",
      "source": [
        "N=input('what is your name: ')\n",
        "amount=int(input('Enter your amount: '))\n",
        "if amount>=6000:\n",
        "    A=(amount*10)/100\n",
        "    print(f'congrates {N} you got an 10% discount')\n",
        "    print(f'{N} you save {A}')\n",
        "else:\n",
        "    print(f'{N} you got 4% discout')\n",
        "    B=(amount*4)/100                          #tum else me bhi formula de sakte ho\n",
        "    print(f'{N} you save {B}')\n",
        "\n",
        "\n",
        "\n"
      ],
      "metadata": {
        "colab": {
          "base_uri": "https://localhost:8080/"
        },
        "id": "mV-6eMUZgbdK",
        "outputId": "649b598b-46cf-4976-af1f-574ad65c0fcf"
      },
      "execution_count": null,
      "outputs": [
        {
          "output_type": "stream",
          "name": "stdout",
          "text": [
            "what is your name: yash\n",
            "Enter your amount: 5600\n",
            "yash you got 4% discout\n",
            "yash you save 224.0\n"
          ]
        }
      ]
    },
    {
      "cell_type": "code",
      "source": [
        "\n",
        "\n"
      ],
      "metadata": {
        "id": "LCAMkGVgknrx"
      },
      "execution_count": null,
      "outputs": []
    },
    {
      "cell_type": "code",
      "source": [],
      "metadata": {
        "id": "2vVjB2nzncBN"
      },
      "execution_count": null,
      "outputs": []
    }
  ]
}