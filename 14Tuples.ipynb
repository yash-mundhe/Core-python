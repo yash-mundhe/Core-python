{
  "nbformat": 4,
  "nbformat_minor": 0,
  "metadata": {
    "colab": {
      "provenance": []
    },
    "kernelspec": {
      "name": "python3",
      "display_name": "Python 3"
    },
    "language_info": {
      "name": "python"
    }
  },
  "cells": [
    {
      "cell_type": "code",
      "execution_count": 28,
      "metadata": {
        "id": "MnJXn_CHFrdn",
        "colab": {
          "base_uri": "https://localhost:8080/"
        },
        "outputId": "d1f3969e-1375-4857-cdda-4a1f90559584"
      },
      "outputs": [
        {
          "output_type": "stream",
          "name": "stdout",
          "text": [
            "<class 'tuple'>\n",
            "('yash', 'sarthak', 'pratham', 'mahadev', 'eshan', 'chetan', 'rohan', 'sumit')\n"
          ]
        }
      ],
      "source": [
        "nm=('yash','sarthak','pratham','mahadev','eshan','chetan','rohan','sumit')\n",
        "print(type(nm))\n",
        "print(nm)"
      ]
    },
    {
      "cell_type": "code",
      "source": [
        "print(nm[2])\n",
        "print(nm[3:])\n",
        "print(nm[:3])\n",
        "print(nm[-6])\n",
        "print(nm[::3])"
      ],
      "metadata": {
        "colab": {
          "base_uri": "https://localhost:8080/"
        },
        "id": "txtWJevCWHOs",
        "outputId": "b5920106-7b7d-42f7-ff70-cc1b6b0855b5"
      },
      "execution_count": 29,
      "outputs": [
        {
          "output_type": "stream",
          "name": "stdout",
          "text": [
            "pratham\n",
            "('mahadev', 'eshan', 'chetan', 'rohan', 'sumit')\n",
            "('yash', 'sarthak', 'pratham')\n",
            "pratham\n",
            "('yash', 'mahadev', 'rohan')\n"
          ]
        }
      ]
    },
    {
      "cell_type": "code",
      "source": [
        "mix=('Yash',2004,5.6,True)\n",
        "print(mix)\n",
        "for value in mix:\n",
        "  print(value)\n",
        "  print(type(value))"
      ],
      "metadata": {
        "colab": {
          "base_uri": "https://localhost:8080/"
        },
        "id": "Uwaih1zfYXAh",
        "outputId": "caeeb2fe-dba7-4ab5-d0b1-19fae0a0188b"
      },
      "execution_count": 30,
      "outputs": [
        {
          "output_type": "stream",
          "name": "stdout",
          "text": [
            "('Yash', 2004, 5.6, True)\n",
            "Yash\n",
            "<class 'str'>\n",
            "2004\n",
            "<class 'int'>\n",
            "5.6\n",
            "<class 'float'>\n",
            "True\n",
            "<class 'bool'>\n"
          ]
        }
      ]
    },
    {
      "cell_type": "code",
      "source": [
        "nm=(['piyush','vishal','prasahant','shreepad','rahul',['ritika','samrudhi','anushka','sinam']])\n",
        "print(nm)"
      ],
      "metadata": {
        "id": "MnfnGaQWjk_m",
        "colab": {
          "base_uri": "https://localhost:8080/"
        },
        "outputId": "ebe06590-52c5-40a3-c19f-c0b5984da5f6"
      },
      "execution_count": 44,
      "outputs": [
        {
          "output_type": "stream",
          "name": "stdout",
          "text": [
            "['piyush', 'vishal', 'prasahant', 'shreepad', 'rahul', ['ritika', 'samrudhi', 'anushka', 'sinam']]\n"
          ]
        }
      ]
    },
    {
      "cell_type": "code",
      "source": [
        "print(nm[5])"
      ],
      "metadata": {
        "colab": {
          "base_uri": "https://localhost:8080/"
        },
        "id": "6ZMaMiBKOsTo",
        "outputId": "1716f177-4008-4054-ffdc-956bdd44ed59"
      },
      "execution_count": 45,
      "outputs": [
        {
          "output_type": "stream",
          "name": "stdout",
          "text": [
            "['ritika', 'samrudhi', 'anushka', 'sinam']\n"
          ]
        }
      ]
    },
    {
      "cell_type": "code",
      "source": [
        "print(nm[5][3])"
      ],
      "metadata": {
        "colab": {
          "base_uri": "https://localhost:8080/"
        },
        "id": "fUm4gfwFPHZp",
        "outputId": "c4780752-d373-4259-f126-7059530b3e03"
      },
      "execution_count": 46,
      "outputs": [
        {
          "output_type": "stream",
          "name": "stdout",
          "text": [
            "sinam\n"
          ]
        }
      ]
    },
    {
      "cell_type": "code",
      "source": [
        "nm[5].append('priya')"
      ],
      "metadata": {
        "id": "YaIH44f4PQrH"
      },
      "execution_count": 50,
      "outputs": []
    },
    {
      "cell_type": "code",
      "source": [
        "print(nm)"
      ],
      "metadata": {
        "colab": {
          "base_uri": "https://localhost:8080/"
        },
        "id": "pz9wzKn1PYEk",
        "outputId": "7ce33316-1da5-4e5d-f71d-0c586f276d68"
      },
      "execution_count": 51,
      "outputs": [
        {
          "output_type": "stream",
          "name": "stdout",
          "text": [
            "['piyush', 'vishal', 'prasahant', 'shreepad', 'rahul', ['ritika', 'samrudhi', 'anushka', 'sinam', 'priya']]\n"
          ]
        }
      ]
    },
    {
      "cell_type": "markdown",
      "source": [
        "**Following 3 are the avaliable with string,list and tuple**"
      ],
      "metadata": {
        "id": "58dVAe36TuyX"
      }
    },
    {
      "cell_type": "code",
      "source": [
        "tup=('hritik roshan','anushak sharama','bhubham bam','hardhik pandya')\n",
        "print(type(tup))"
      ],
      "metadata": {
        "colab": {
          "base_uri": "https://localhost:8080/"
        },
        "id": "vHe5IIuZSHI5",
        "outputId": "f0943bcd-1ada-4d01-95ac-bb9849775c85"
      },
      "execution_count": 52,
      "outputs": [
        {
          "output_type": "stream",
          "name": "stdout",
          "text": [
            "<class 'tuple'>\n"
          ]
        }
      ]
    },
    {
      "cell_type": "code",
      "source": [
        "#number of elements\n",
        "print(len(tup))"
      ],
      "metadata": {
        "colab": {
          "base_uri": "https://localhost:8080/"
        },
        "id": "9XUsNb4-VtJF",
        "outputId": "0cb92433-5765-4da5-8665-fe55ac22c639"
      },
      "execution_count": 53,
      "outputs": [
        {
          "output_type": "stream",
          "name": "stdout",
          "text": [
            "4\n"
          ]
        }
      ]
    },
    {
      "cell_type": "code",
      "source": [
        "print(min(tup))"
      ],
      "metadata": {
        "colab": {
          "base_uri": "https://localhost:8080/"
        },
        "id": "0_1uqyGRWGXF",
        "outputId": "fa62d830-b66d-4b90-a4fc-3aadf9dbbb0b"
      },
      "execution_count": 54,
      "outputs": [
        {
          "output_type": "stream",
          "name": "stdout",
          "text": [
            "anushak sharama\n"
          ]
        }
      ]
    },
    {
      "cell_type": "code",
      "source": [
        "print(max(tup))"
      ],
      "metadata": {
        "colab": {
          "base_uri": "https://localhost:8080/"
        },
        "id": "O2aEeSkOWWTp",
        "outputId": "93700f81-3c63-42db-c040-24112ba3119a"
      },
      "execution_count": 55,
      "outputs": [
        {
          "output_type": "stream",
          "name": "stdout",
          "text": [
            "hritik roshan\n"
          ]
        }
      ]
    },
    {
      "cell_type": "code",
      "source": [
        "n=(43,2,56,33,75,5)\n",
        "print(len(n))\n",
        "print(min(n))\n",
        "print(max(n))"
      ],
      "metadata": {
        "colab": {
          "base_uri": "https://localhost:8080/"
        },
        "id": "V39XMP9aWi7C",
        "outputId": "20d520bd-ce09-43c4-85d7-137f1c26ec2f"
      },
      "execution_count": 58,
      "outputs": [
        {
          "output_type": "stream",
          "name": "stdout",
          "text": [
            "6\n",
            "2\n",
            "75\n"
          ]
        }
      ]
    },
    {
      "cell_type": "code",
      "source": [],
      "metadata": {
        "id": "jHiRrLUdX8mF"
      },
      "execution_count": null,
      "outputs": []
    }
  ]
}