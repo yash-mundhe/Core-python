{
  "nbformat": 4,
  "nbformat_minor": 0,
  "metadata": {
    "colab": {
      "provenance": []
    },
    "kernelspec": {
      "name": "python3",
      "display_name": "Python 3"
    },
    "language_info": {
      "name": "python"
    }
  },
  "cells": [
    {
      "cell_type": "markdown",
      "source": [
        "# **Operations**\n",
        "* Union\n",
        "* intersection\n",
        "* Difference\n",
        "* Symmetric Difference\n"
      ],
      "metadata": {
        "id": "48DrssBuua1k"
      }
    },
    {
      "cell_type": "code",
      "execution_count": 1,
      "metadata": {
        "id": "cvg1WB5PuHN9"
      },
      "outputs": [],
      "source": [
        "cars={'honda','MG','KIA','Mahindra','BMW','Fourd'}\n",
        "bikes={'hero','honda','bajaj','TVS','yamaha'}"
      ]
    },
    {
      "cell_type": "markdown",
      "source": [
        "* **Union**- common values from both sets"
      ],
      "metadata": {
        "id": "Ub03eKw_xtS0"
      }
    },
    {
      "cell_type": "code",
      "source": [
        "U=cars.union(bikes)\n",
        "print(U)"
      ],
      "metadata": {
        "colab": {
          "base_uri": "https://localhost:8080/"
        },
        "id": "uFzOaUx8w52H",
        "outputId": "0f93fdfc-e2e3-44da-a06f-14125a4db4a8"
      },
      "execution_count": 6,
      "outputs": [
        {
          "output_type": "stream",
          "name": "stdout",
          "text": [
            "{'bajaj', 'KIA', 'yamaha', 'hero', 'BMW', 'TVS', 'MG', 'Fourd', 'honda', 'Mahindra'}\n"
          ]
        }
      ]
    },
    {
      "cell_type": "markdown",
      "source": [
        "* **intersection**- common values from both sets"
      ],
      "metadata": {
        "id": "RDvmc1uKyTbq"
      }
    },
    {
      "cell_type": "code",
      "source": [
        "I=cars.intersection(bikes)\n",
        "print(I)"
      ],
      "metadata": {
        "colab": {
          "base_uri": "https://localhost:8080/"
        },
        "id": "KX4gDxBOxlv9",
        "outputId": "e42c3b07-4032-417b-c458-2f2843ff395f"
      },
      "execution_count": 7,
      "outputs": [
        {
          "output_type": "stream",
          "name": "stdout",
          "text": [
            "{'honda'}\n"
          ]
        }
      ]
    },
    {
      "cell_type": "markdown",
      "source": [
        "**Difference**- Values in first but not in second"
      ],
      "metadata": {
        "id": "l9nyF0zTz58U"
      }
    },
    {
      "cell_type": "code",
      "source": [
        "Diff=cars.difference(bikes)\n",
        "print(Diff)"
      ],
      "metadata": {
        "colab": {
          "base_uri": "https://localhost:8080/"
        },
        "id": "xkl0IEkKzUvx",
        "outputId": "b3177cff-2633-40b4-ca85-03d4d8fb21f7"
      },
      "execution_count": 9,
      "outputs": [
        {
          "output_type": "stream",
          "name": "stdout",
          "text": [
            "{'KIA', 'BMW', 'MG', 'Fourd', 'Mahindra'}\n"
          ]
        }
      ]
    },
    {
      "cell_type": "markdown",
      "source": [
        "**SYMMETRIC DIFFERENCE**- value from both set except the common(common vala cansal hi jata hai)"
      ],
      "metadata": {
        "id": "kMgAzDm55ywx"
      }
    },
    {
      "cell_type": "code",
      "source": [
        "sym=cars.symmetric_difference(bikes)\n",
        "print(sym)"
      ],
      "metadata": {
        "colab": {
          "base_uri": "https://localhost:8080/"
        },
        "id": "-gv7T-fI1KRP",
        "outputId": "1796719c-9dbd-4501-fbd3-f9627b60edc8"
      },
      "execution_count": 13,
      "outputs": [
        {
          "output_type": "stream",
          "name": "stdout",
          "text": [
            "{'yamaha', 'KIA', 'hero', 'BMW', 'TVS', 'MG', 'bajaj', 'Fourd', 'Mahindra'}\n"
          ]
        }
      ]
    },
    {
      "cell_type": "markdown",
      "source": [
        "**Operation on List?**"
      ],
      "metadata": {
        "id": "Q1leWLIA7q8S"
      }
    },
    {
      "cell_type": "code",
      "source": [
        "male=['Rohan','eshan','sumit','prathamesh','vishal','prashant','shreepad','atharva']\n",
        "female=['priya','ritika','sinam','janvi','anushka','atharva']\n"
      ],
      "metadata": {
        "id": "I5d-R2wZ6_lu"
      },
      "execution_count": 17,
      "outputs": []
    },
    {
      "cell_type": "code",
      "source": [
        "M=list(set(male).intersection(female))\n",
        "print(M)"
      ],
      "metadata": {
        "colab": {
          "base_uri": "https://localhost:8080/"
        },
        "id": "-BBftTQe9WVg",
        "outputId": "3c96cf0b-57bb-45a6-9e4d-0210579912d7"
      },
      "execution_count": 18,
      "outputs": [
        {
          "output_type": "stream",
          "name": "stdout",
          "text": [
            "['atharva']\n"
          ]
        }
      ]
    },
    {
      "cell_type": "code",
      "source": [],
      "metadata": {
        "id": "-jOGvnAi92hH"
      },
      "execution_count": null,
      "outputs": []
    }
  ]
}