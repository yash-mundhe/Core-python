{
  "nbformat": 4,
  "nbformat_minor": 0,
  "metadata": {
    "colab": {
      "provenance": []
    },
    "kernelspec": {
      "name": "python3",
      "display_name": "Python 3"
    },
    "language_info": {
      "name": "python"
    }
  },
  "cells": [
    {
      "cell_type": "markdown",
      "source": [
        "Repeat statement under condition"
      ],
      "metadata": {
        "id": "nZSM52uLYLRw"
      }
    },
    {
      "cell_type": "code",
      "execution_count": null,
      "metadata": {
        "colab": {
          "base_uri": "https://localhost:8080/"
        },
        "id": "4iE3ODFZYDFx",
        "outputId": "cc0da11d-e42b-45fc-e49c-f58190def518"
      },
      "outputs": [
        {
          "name": "stdout",
          "output_type": "stream",
          "text": [
            "what is your name: yash mundhe\n",
            "thanks yash mundhe\n",
            "Do you want to continue: (yes/no)yes\n",
            "what is your name: sakshi mundhe\n",
            "thanks sakshi mundhe\n",
            "Do you want to continue: (yes/no)no\n"
          ]
        }
      ],
      "source": [
        "choice=\"yes\"\n",
        "while choice=='yes':\n",
        "  nm=input(\"what is your name: \")\n",
        "  print(f'thanks {nm}')\n",
        "  choice=input(f'Do you want to continue: (yes/no)')"
      ]
    },
    {
      "cell_type": "code",
      "source": [
        "A=\"ho\"\n",
        "while A==\"ho\":\n",
        "  b=input('tuz nav ky ahe: ')\n",
        "  print(f'dahnayvad {b}')\n",
        "  A=input('ajun kona ch nav day ch ahe ka: ')\n"
      ],
      "metadata": {
        "colab": {
          "base_uri": "https://localhost:8080/"
        },
        "id": "62kvuyFyZpfX",
        "outputId": "1721e810-769a-4d52-9029-1e4f417e6166"
      },
      "execution_count": null,
      "outputs": [
        {
          "name": "stdout",
          "output_type": "stream",
          "text": [
            "tuz nav ky ahe: yash\n",
            "dahnayvad yash\n",
            "ajun kona ch nav day ch ahe ka: ho\n",
            "tuz nav ky ahe: sakshi\n",
            "dahnayvad sakshi\n",
            "ajun kona ch nav day ch ahe ka: ho\n",
            "tuz nav ky ahe: sanika\n",
            "dahnayvad sanika\n",
            "ajun kona ch nav day ch ahe ka: ho\n",
            "tuz nav ky ahe: sarthak\n",
            "dahnayvad sarthak\n",
            "ajun kona ch nav day ch ahe ka: nahi\n"
          ]
        }
      ]
    },
    {
      "cell_type": "code",
      "source": [
        "choice='ha'\n",
        "while choice=='ha':\n",
        "  B=input('tera nam kya hai: ')\n",
        "  print(f'thank you {B}')\n",
        "  choice=input(f'or kisika nam dena chahate ho kya: ')"
      ],
      "metadata": {
        "colab": {
          "base_uri": "https://localhost:8080/"
        },
        "id": "UJ72n0Rybpjy",
        "outputId": "cfc6efb6-ffa5-4c10-9245-c5e286d711a7"
      },
      "execution_count": null,
      "outputs": [
        {
          "name": "stdout",
          "output_type": "stream",
          "text": [
            "tera nam kya hai: yash\n",
            "thank you yash\n",
            "or kisika nam dena chahate ho kya: ha\n",
            "tera nam kya hai: sakshi\n",
            "thank you sakshi\n",
            "or kisika nam dena chahate ho kya: ha\n",
            "tera nam kya hai: sarthak\n",
            "thank you sarthak\n",
            "or kisika nam dena chahate ho kya: ha\n",
            "tera nam kya hai: sanika\n",
            "thank you sanika\n",
            "or kisika nam dena chahate ho kya: no\n"
          ]
        }
      ]
    },
    {
      "cell_type": "code",
      "source": [],
      "metadata": {
        "id": "x0EMnRaHdZNx"
      },
      "execution_count": null,
      "outputs": []
    }
  ]
}