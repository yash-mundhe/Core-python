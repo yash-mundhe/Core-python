{
  "nbformat": 4,
  "nbformat_minor": 0,
  "metadata": {
    "colab": {
      "provenance": []
    },
    "kernelspec": {
      "name": "python3",
      "display_name": "Python 3"
    },
    "language_info": {
      "name": "python"
    }
  },
  "cells": [
    {
      "cell_type": "code",
      "execution_count": null,
      "metadata": {
        "colab": {
          "base_uri": "https://localhost:8080/"
        },
        "id": "IucNekqwzHYX",
        "outputId": "d334bc28-e703-461c-d0b8-255c52d02781"
      },
      "outputs": [
        {
          "output_type": "stream",
          "name": "stdout",
          "text": [
            "<class 'int'>\n",
            "<class 'float'>\n",
            "<class 'bool'>\n",
            "<class 'str'>\n"
          ]
        }
      ],
      "source": [
        "a=10\n",
        "b=1.2\n",
        "c=a<b\n",
        "d='yash'\n",
        "print(type(a))\n",
        "print(type(b))\n",
        "print(type(c))\n",
        "print(type(d))"
      ]
    },
    {
      "cell_type": "code",
      "source": [
        "name=['yash','sakshi','sanika','sarthak']     #box brakests[] me hoga to use list bolenge\n",
        "print(type(name))"
      ],
      "metadata": {
        "colab": {
          "base_uri": "https://localhost:8080/"
        },
        "id": "uUraXTnWzSHU",
        "outputId": "43e65f55-a485-481b-d3e8-a9dc94d3b45f"
      },
      "execution_count": null,
      "outputs": [
        {
          "output_type": "stream",
          "name": "stdout",
          "text": [
            "<class 'list'>\n"
          ]
        }
      ]
    },
    {
      "cell_type": "code",
      "source": [
        "movies=('3ideats','lalshingchada','sitaraman')   #ek se jada nam ek isme daloge to vo tuple hoga\n",
        "print(type(movies))\n",
        "nm=('yash')\n",
        "print(type(nm))                                  #ek hi name hoga to vo string hogi"
      ],
      "metadata": {
        "colab": {
          "base_uri": "https://localhost:8080/"
        },
        "id": "V3EtX9dB0XUV",
        "outputId": "9afa4c7a-dfb4-4548-979e-fedffe9f769d"
      },
      "execution_count": null,
      "outputs": [
        {
          "output_type": "stream",
          "name": "stdout",
          "text": [
            "<class 'tuple'>\n",
            "<class 'str'>\n"
          ]
        }
      ]
    },
    {
      "cell_type": "code",
      "source": [
        "sub={'science','physics','chemistry'}\n",
        "print(type(sub))"
      ],
      "metadata": {
        "colab": {
          "base_uri": "https://localhost:8080/"
        },
        "id": "GyjaZ0NU1wLy",
        "outputId": "73a84b10-7f91-4293-806e-862e9b9a2b54"
      },
      "execution_count": null,
      "outputs": [
        {
          "output_type": "stream",
          "name": "stdout",
          "text": [
            "<class 'set'>\n"
          ]
        }
      ]
    },
    {
      "cell_type": "markdown",
      "source": [
        "# **dictionary**"
      ],
      "metadata": {
        "id": "XbIw5q6Xqrea"
      }
    },
    {
      "cell_type": "code",
      "source": [
        "games={\n",
        "    \"cricket\":\"Virat kholi\",\n",
        "    \"futboal\":\"meesy\",\n",
        "    \"kabaddi\":\"pradip narval\"\n",
        "}\n",
        "print(type(games))                        #dictionary"
      ],
      "metadata": {
        "colab": {
          "base_uri": "https://localhost:8080/"
        },
        "id": "iTq_p3Ti3EYx",
        "outputId": "6464cc30-2ef6-453b-ab80-6dd1a6650661"
      },
      "execution_count": null,
      "outputs": [
        {
          "output_type": "stream",
          "name": "stdout",
          "text": [
            "<class 'dict'>\n"
          ]
        }
      ]
    },
    {
      "cell_type": "code",
      "source": [],
      "metadata": {
        "id": "sIthXFqEqypC"
      },
      "execution_count": null,
      "outputs": []
    },
    {
      "cell_type": "code",
      "source": [],
      "metadata": {
        "id": "V9gnTbv34EsF"
      },
      "execution_count": null,
      "outputs": []
    }
  ]
}