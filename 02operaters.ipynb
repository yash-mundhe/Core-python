{
  "nbformat": 4,
  "nbformat_minor": 0,
  "metadata": {
    "colab": {
      "provenance": []
    },
    "kernelspec": {
      "name": "python3",
      "display_name": "Python 3"
    },
    "language_info": {
      "name": "python"
    }
  },
  "cells": [
    {
      "cell_type": "markdown",
      "source": [
        "**Arithematic opaeraters**"
      ],
      "metadata": {
        "id": "T9bFab3_Z8df"
      }
    },
    {
      "cell_type": "code",
      "execution_count": null,
      "metadata": {
        "colab": {
          "base_uri": "https://localhost:8080/"
        },
        "id": "jgoDXGJWY-te",
        "outputId": "13dbfc06-e0c7-47b5-def6-e4c8792df5de"
      },
      "outputs": [
        {
          "output_type": "stream",
          "name": "stdout",
          "text": [
            "22\n",
            "2\n",
            "120\n",
            "1.2\n",
            "1\n",
            "2\n",
            "61917364224\n"
          ]
        }
      ],
      "source": [
        "A=12\n",
        "B=10\n",
        "print(A+B)\n",
        "print(A-B)\n",
        "print(A*B)\n",
        "print(A/B)\n",
        "#floor division\n",
        "print(A//B)\n",
        "#Modulus\n",
        "print(A%B)    #division me jo niche ki value dekhta hai hai\n",
        "print(A**B)"
      ]
    },
    {
      "cell_type": "markdown",
      "source": [
        "**Relational operator**"
      ],
      "metadata": {
        "id": "1phLk_YybT3K"
      }
    },
    {
      "cell_type": "code",
      "source": [
        "A=2               #this A assignee the value\n",
        "print(A==2)       #this A cheking that it's equak or not (condision)\n",
        "print(A==4)"
      ],
      "metadata": {
        "colab": {
          "base_uri": "https://localhost:8080/"
        },
        "id": "S6bwNKgubZy-",
        "outputId": "a12ed473-2c7a-49cd-d264-de47ac65e955"
      },
      "execution_count": null,
      "outputs": [
        {
          "output_type": "stream",
          "name": "stdout",
          "text": [
            "True\n",
            "False\n"
          ]
        }
      ]
    },
    {
      "cell_type": "code",
      "source": [
        "username=\"yash\"\n",
        "print(username==\"chetan\")\n",
        "print(username==\"yash\")"
      ],
      "metadata": {
        "colab": {
          "base_uri": "https://localhost:8080/"
        },
        "id": "CAvqVAdwbm14",
        "outputId": "84ebea23-d5b7-497a-94e4-eea26dba7144"
      },
      "execution_count": null,
      "outputs": [
        {
          "output_type": "stream",
          "name": "stdout",
          "text": [
            "False\n",
            "True\n"
          ]
        }
      ]
    },
    {
      "cell_type": "code",
      "source": [
        "A=12\n",
        "B=15\n",
        "print(A>B)     #GREATER than\n",
        "print(A<B)     #LESS than\n",
        "print(A>=B)    #GREATER than EQUALS to\n",
        "print(A<=B)    #LESS than EQUALS to\n",
        "print(A!=B)    #NOT EQUALS to"
      ],
      "metadata": {
        "colab": {
          "base_uri": "https://localhost:8080/"
        },
        "id": "Ufyb-NxmcGC-",
        "outputId": "7662d58d-4e3f-484a-a59e-ce88074e9fcf"
      },
      "execution_count": null,
      "outputs": [
        {
          "output_type": "stream",
          "name": "stdout",
          "text": [
            "False\n",
            "True\n",
            "False\n",
            "True\n",
            "True\n"
          ]
        }
      ]
    },
    {
      "cell_type": "markdown",
      "source": [
        "**Assignment operator**"
      ],
      "metadata": {
        "id": "OBL1Zspzevy1"
      }
    },
    {
      "cell_type": "code",
      "source": [
        "A=7\n",
        "A+=2         #uper vale A me add karna hoga to yese bhi kar sakate\n",
        "B=7+2        #isko yese bhi likh sakate hai\n",
        "print(A)\n",
        "print(B)"
      ],
      "metadata": {
        "colab": {
          "base_uri": "https://localhost:8080/"
        },
        "id": "o9RZ8Ppucs4U",
        "outputId": "e637e1b9-99aa-46dc-dbbf-7ae336dedd0e"
      },
      "execution_count": null,
      "outputs": [
        {
          "output_type": "stream",
          "name": "stdout",
          "text": [
            "9\n",
            "9\n"
          ]
        }
      ]
    },
    {
      "cell_type": "code",
      "source": [
        "A=7\n",
        "A-=2\n",
        "print(f'this is an answer {A} ')"
      ],
      "metadata": {
        "colab": {
          "base_uri": "https://localhost:8080/"
        },
        "id": "ntUgvUMvfJZn",
        "outputId": "a74263ea-3483-4c35-892a-c4beea57b992"
      },
      "execution_count": null,
      "outputs": [
        {
          "output_type": "stream",
          "name": "stdout",
          "text": [
            "this is an answer 5 \n"
          ]
        }
      ]
    },
    {
      "cell_type": "code",
      "source": [
        "A=10\n",
        "A*=2\n",
        "print(A)\n"
      ],
      "metadata": {
        "colab": {
          "base_uri": "https://localhost:8080/"
        },
        "id": "4lK8MLFDfvTv",
        "outputId": "3a72ae3b-22c1-4802-9098-ec393ad90845"
      },
      "execution_count": null,
      "outputs": [
        {
          "output_type": "stream",
          "name": "stdout",
          "text": [
            "10.0\n"
          ]
        }
      ]
    },
    {
      "cell_type": "code",
      "source": [
        "A=5\n",
        "A/=2\n",
        "print(A)"
      ],
      "metadata": {
        "colab": {
          "base_uri": "https://localhost:8080/"
        },
        "id": "Jg4ROyPUghrA",
        "outputId": "934891aa-1377-496f-e71e-4fe39262602c"
      },
      "execution_count": null,
      "outputs": [
        {
          "output_type": "stream",
          "name": "stdout",
          "text": [
            "2.5\n"
          ]
        }
      ]
    },
    {
      "cell_type": "code",
      "source": [
        "A=5\n",
        "A//=2          #isme desimal(.) ke baad ki value nahi aati\n",
        "print(A)"
      ],
      "metadata": {
        "colab": {
          "base_uri": "https://localhost:8080/"
        },
        "id": "LMewgbIVhGxv",
        "outputId": "be53da5e-8ea1-4f18-b12b-22d6a6dcbbb0"
      },
      "execution_count": null,
      "outputs": [
        {
          "output_type": "stream",
          "name": "stdout",
          "text": [
            "2\n"
          ]
        }
      ]
    },
    {
      "cell_type": "code",
      "source": [
        "A=6\n",
        "A%=13\n",
        "print(A)"
      ],
      "metadata": {
        "colab": {
          "base_uri": "https://localhost:8080/"
        },
        "id": "3ht9ak8dhVZ4",
        "outputId": "cf332d6d-36bf-4621-d485-8c07270146d4"
      },
      "execution_count": null,
      "outputs": [
        {
          "output_type": "stream",
          "name": "stdout",
          "text": [
            "6\n"
          ]
        }
      ]
    },
    {
      "cell_type": "markdown",
      "source": [
        "**logical operrator**"
      ],
      "metadata": {
        "id": "6lb5IInbiCrv"
      }
    },
    {
      "cell_type": "markdown",
      "source": [
        "AND"
      ],
      "metadata": {
        "id": "gwwDoi2YilqO"
      }
    },
    {
      "cell_type": "code",
      "source": [
        "A=15\n",
        "B=13\n",
        "print(A>=B and A<=B)          #aagar dono condision sahi hogi to true aayega"
      ],
      "metadata": {
        "colab": {
          "base_uri": "https://localhost:8080/"
        },
        "id": "WEPq0pUPhsUr",
        "outputId": "ec1d81a4-275e-4201-d4e6-1f8454b46a0e"
      },
      "execution_count": null,
      "outputs": [
        {
          "output_type": "stream",
          "name": "stdout",
          "text": [
            "False\n"
          ]
        }
      ]
    },
    {
      "cell_type": "markdown",
      "source": [
        "OR"
      ],
      "metadata": {
        "id": "xeacrhd7jZW_"
      }
    },
    {
      "cell_type": "code",
      "source": [
        "A=15\n",
        "B=13\n",
        "print(A>=B or A<=B)          #ek bhi sahi hogi to true"
      ],
      "metadata": {
        "colab": {
          "base_uri": "https://localhost:8080/"
        },
        "id": "Q07YOIfEi3uH",
        "outputId": "67898507-9ef3-49e0-96a2-d8d4c6fe76e5"
      },
      "execution_count": null,
      "outputs": [
        {
          "output_type": "stream",
          "name": "stdout",
          "text": [
            "True\n"
          ]
        }
      ]
    },
    {
      "cell_type": "markdown",
      "source": [
        "NOT"
      ],
      "metadata": {
        "id": "gbIJ8U8tkEMd"
      }
    },
    {
      "cell_type": "code",
      "source": [
        "A=5>12\n",
        "print(not A )               #ulta kar dega"
      ],
      "metadata": {
        "colab": {
          "base_uri": "https://localhost:8080/"
        },
        "id": "AK8ZntjRjWwD",
        "outputId": "51d15c8e-d4de-4dbb-d33f-b59cadc606fa"
      },
      "execution_count": null,
      "outputs": [
        {
          "output_type": "stream",
          "name": "stdout",
          "text": [
            "True\n"
          ]
        }
      ]
    },
    {
      "cell_type": "code",
      "source": [
        "#mix example\n",
        "print(5>2)\n",
        "print(5==2)\n",
        "print(8>2)\n",
        "print(5==3)\n",
        "print(5>2 and 5==2)\n",
        "print(8>2 or 6<7)\n",
        "print(not 5==3)"
      ],
      "metadata": {
        "colab": {
          "base_uri": "https://localhost:8080/"
        },
        "id": "XdOJpllNjxYs",
        "outputId": "f93e61f4-797d-402a-fcc6-d8ebf76f937e"
      },
      "execution_count": null,
      "outputs": [
        {
          "output_type": "stream",
          "name": "stdout",
          "text": [
            "True\n",
            "False\n",
            "True\n",
            "False\n",
            "False\n",
            "True\n",
            "True\n"
          ]
        }
      ]
    },
    {
      "cell_type": "markdown",
      "source": [
        "**Membership operator**"
      ],
      "metadata": {
        "id": "zTNclCemlKcL"
      }
    },
    {
      "cell_type": "markdown",
      "source": [
        "In\n"
      ],
      "metadata": {
        "id": "wpAi41d5mGRc"
      }
    },
    {
      "cell_type": "code",
      "source": [
        "print(\"y\" in 'yash' )\n",
        "print('z' in 'yash')"
      ],
      "metadata": {
        "colab": {
          "base_uri": "https://localhost:8080/"
        },
        "id": "AWOsWSJWkaXz",
        "outputId": "15c81391-d656-420d-8f71-bfb0aa6a4537"
      },
      "execution_count": null,
      "outputs": [
        {
          "output_type": "stream",
          "name": "stdout",
          "text": [
            "True\n",
            "False\n"
          ]
        }
      ]
    },
    {
      "cell_type": "markdown",
      "source": [
        "Not in"
      ],
      "metadata": {
        "id": "RsSzpC5omI1n"
      }
    },
    {
      "cell_type": "code",
      "source": [
        "print('y' not in 'yash')\n",
        "print('z' not in 'yash')"
      ],
      "metadata": {
        "colab": {
          "base_uri": "https://localhost:8080/"
        },
        "id": "GEQMsizNlUp4",
        "outputId": "7d97de76-4212-4acc-a0e0-0070efbb985f"
      },
      "execution_count": null,
      "outputs": [
        {
          "output_type": "stream",
          "name": "stdout",
          "text": [
            "False\n",
            "True\n"
          ]
        }
      ]
    },
    {
      "cell_type": "markdown",
      "source": [
        "**Ternary opertor**"
      ],
      "metadata": {
        "id": "kHjIK7KFmWV8"
      }
    },
    {
      "cell_type": "markdown",
      "source": [
        "If else"
      ],
      "metadata": {
        "id": "hBK6obkxmPWE"
      }
    },
    {
      "cell_type": "code",
      "source": [
        "marks=66\n",
        "print('pass' if marks>=35 else 'fail' )"
      ],
      "metadata": {
        "colab": {
          "base_uri": "https://localhost:8080/"
        },
        "id": "9fF6zNoSl2-k",
        "outputId": "c0e2fc2f-bb5d-480e-f9cb-f80cb526a9bc"
      },
      "execution_count": null,
      "outputs": [
        {
          "output_type": "stream",
          "name": "stdout",
          "text": [
            "pass\n"
          ]
        }
      ]
    },
    {
      "cell_type": "code",
      "source": [],
      "metadata": {
        "id": "zGVP2XBNm32z"
      },
      "execution_count": null,
      "outputs": []
    }
  ]
}