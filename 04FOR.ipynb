{
  "nbformat": 4,
  "nbformat_minor": 0,
  "metadata": {
    "colab": {
      "provenance": []
    },
    "kernelspec": {
      "name": "python3",
      "display_name": "Python 3"
    },
    "language_info": {
      "name": "python"
    }
  },
  "cells": [
    {
      "cell_type": "markdown",
      "source": [
        "for is use to repeat rhe activity for a range"
      ],
      "metadata": {
        "id": "97dyTeS2f1Qt"
      }
    },
    {
      "cell_type": "code",
      "execution_count": null,
      "metadata": {
        "colab": {
          "base_uri": "https://localhost:8080/"
        },
        "id": "wAilUpOsZsGD",
        "outputId": "c43fb1c6-0308-4b3e-c3c4-4e2589209b60"
      },
      "outputs": [
        {
          "output_type": "stream",
          "name": "stdout",
          "text": [
            "the numbers are 1\n",
            "the numbers are 2\n",
            "the numbers are 3\n",
            "the numbers are 4\n",
            "the numbers are 5\n",
            "the numbers are 6\n",
            "the numbers are 7\n",
            "the numbers are 8\n",
            "the numbers are 9\n",
            "the numbers are 10\n"
          ]
        }
      ],
      "source": [
        "for i in range(1,11):       #in that brakets 1st no. is were it start from and 2nd for ending\n",
        "  print(f'the numbers are {i}')"
      ]
    },
    {
      "cell_type": "code",
      "source": [
        "for i in range(11,22):\n",
        "  print(i)"
      ],
      "metadata": {
        "colab": {
          "base_uri": "https://localhost:8080/"
        },
        "id": "Mnmku90UdUNg",
        "outputId": "3e1bc7fd-98d6-4f4b-b635-2c565e4e6986"
      },
      "execution_count": null,
      "outputs": [
        {
          "output_type": "stream",
          "name": "stdout",
          "text": [
            "11\n",
            "12\n",
            "13\n",
            "14\n",
            "15\n",
            "16\n",
            "17\n",
            "18\n",
            "19\n",
            "20\n",
            "21\n"
          ]
        }
      ]
    },
    {
      "cell_type": "code",
      "source": [
        "# write an table\n",
        "a=int(input(f'table number: '))\n",
        "for i in range(1,11):\n",
        " print(i*a)"
      ],
      "metadata": {
        "colab": {
          "base_uri": "https://localhost:8080/"
        },
        "id": "Gi8ZQc8zZ7mL",
        "outputId": "9d6d49fe-5f65-48a2-c4d2-084a6add3780"
      },
      "execution_count": null,
      "outputs": [
        {
          "output_type": "stream",
          "name": "stdout",
          "text": [
            "table number: 11\n",
            "11\n",
            "22\n",
            "33\n",
            "44\n",
            "55\n",
            "66\n",
            "77\n",
            "88\n",
            "99\n",
            "110\n"
          ]
        }
      ]
    },
    {
      "cell_type": "code",
      "source": [
        "for i in range(1,25,3):        #isme jo 3rd vala hai vo utne number chod deta hai\n",
        "   print(i)"
      ],
      "metadata": {
        "colab": {
          "base_uri": "https://localhost:8080/"
        },
        "id": "7t6nMAA3bv6q",
        "outputId": "9899c5ab-fa64-4ef8-97db-879498bd274d"
      },
      "execution_count": null,
      "outputs": [
        {
          "output_type": "stream",
          "name": "stdout",
          "text": [
            "1\n",
            "4\n",
            "7\n",
            "10\n",
            "13\n",
            "16\n",
            "19\n",
            "22\n"
          ]
        }
      ]
    },
    {
      "cell_type": "code",
      "source": [
        "for i in range(25,1,-1):      #isme jo 3rd vala aagar -1 ho to vo ulta print karta hai\n",
        "   print(i)"
      ],
      "metadata": {
        "colab": {
          "base_uri": "https://localhost:8080/"
        },
        "id": "Z40ZFbU3ecug",
        "outputId": "8cd37037-4f11-4a99-8455-5f532759941d"
      },
      "execution_count": null,
      "outputs": [
        {
          "output_type": "stream",
          "name": "stdout",
          "text": [
            "25\n",
            "24\n",
            "23\n",
            "22\n",
            "21\n",
            "20\n",
            "19\n",
            "18\n",
            "17\n",
            "16\n",
            "15\n",
            "14\n",
            "13\n",
            "12\n",
            "11\n",
            "10\n",
            "9\n",
            "8\n",
            "7\n",
            "6\n",
            "5\n",
            "4\n",
            "3\n",
            "2\n"
          ]
        }
      ]
    },
    {
      "cell_type": "code",
      "source": [],
      "metadata": {
        "id": "k9jgx_mUfVl4"
      },
      "execution_count": null,
      "outputs": []
    }
  ]
}