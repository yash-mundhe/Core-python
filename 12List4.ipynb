{
  "nbformat": 4,
  "nbformat_minor": 0,
  "metadata": {
    "colab": {
      "provenance": []
    },
    "kernelspec": {
      "name": "python3",
      "display_name": "Python 3"
    },
    "language_info": {
      "name": "python"
    }
  },
  "cells": [
    {
      "cell_type": "code",
      "execution_count": 7,
      "metadata": {
        "colab": {
          "base_uri": "https://localhost:8080/"
        },
        "id": "QLPw__zKsgEY",
        "outputId": "b2728300-e318-4b44-a885-2deea01f837a"
      },
      "outputs": [
        {
          "output_type": "stream",
          "name": "stdout",
          "text": [
            "Enter friends name: piyush\n",
            "Do you wnat to continue (no to stop): yes\n",
            "Enter friends name: sumit\n",
            "Do you wnat to continue (no to stop): yes\n",
            "Enter friends name: rohan\n",
            "Do you wnat to continue (no to stop): yes\n",
            "Enter friends name: eshan\n",
            "Do you wnat to continue (no to stop): yes\n",
            "Enter friends name: yash\n",
            "Do you wnat to continue (no to stop): yes\n",
            "Enter friends name: vedant\n",
            "Do you wnat to continue (no to stop): no\n",
            "['piyush', 'sumit', 'rohan', 'eshan', 'yash', 'vedant']\n"
          ]
        }
      ],
      "source": [
        "friends=[]\n",
        "cho=''\n",
        "\n",
        "while cho!='no':\n",
        "  nm=input('Enter friends name: ')\n",
        "  friends.append(nm)\n",
        "  cho=input('Do you wnat to continue (no to stop): ')\n",
        "\n",
        "print(friends)"
      ]
    }
  ]
}