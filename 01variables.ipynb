{
  "nbformat": 4,
  "nbformat_minor": 0,
  "metadata": {
    "colab": {
      "provenance": []
    },
    "kernelspec": {
      "name": "python3",
      "display_name": "Python 3"
    },
    "language_info": {
      "name": "python"
    }
  },
  "cells": [
    {
      "cell_type": "markdown",
      "source": [
        "# **for integeintegers**"
      ],
      "metadata": {
        "id": "ffavp7fh6JTr"
      }
    },
    {
      "cell_type": "code",
      "execution_count": null,
      "metadata": {
        "id": "-FFxkhcij5q0",
        "colab": {
          "base_uri": "https://localhost:8080/"
        },
        "outputId": "17729d6a-525e-4386-974c-067b94f73c4d"
      },
      "outputs": [
        {
          "output_type": "stream",
          "name": "stdout",
          "text": [
            "18\n",
            "<class 'int'>\n"
          ]
        }
      ],
      "source": [
        "a=12\n",
        "b=6\n",
        "c=a+b\n",
        "print(c)\n",
        "print(type(c))"
      ]
    },
    {
      "cell_type": "code",
      "source": [
        "a=5\n",
        "e=9\n",
        "z=a-e\n",
        "print(z)\n",
        "print(type(z))"
      ],
      "metadata": {
        "colab": {
          "base_uri": "https://localhost:8080/"
        },
        "id": "J5RBdOMu5jyN",
        "outputId": "fc9e1ffc-8d95-470e-a5af-e57df107be51"
      },
      "execution_count": null,
      "outputs": [
        {
          "output_type": "stream",
          "name": "stdout",
          "text": [
            "-4\n",
            "<class 'int'>\n"
          ]
        }
      ]
    },
    {
      "cell_type": "markdown",
      "source": [
        "**lets make in good formats**\n",
        "\n",
        "\n",
        "*   here we can also add name with your answer\n",
        "\n",
        "\n",
        "\n",
        "\n",
        "\n"
      ],
      "metadata": {
        "id": "cEvHhxlu-Ff8"
      }
    },
    {
      "cell_type": "code",
      "source": [
        "a=16\n",
        "b=79\n",
        "c=a-b\n",
        "print(f'substraction is{c}')\n",
        "print(type(c))"
      ],
      "metadata": {
        "colab": {
          "base_uri": "https://localhost:8080/"
        },
        "id": "Lhr63A_A-qLw",
        "outputId": "e2488556-487e-434d-ca44-e8725f1a37bb"
      },
      "execution_count": null,
      "outputs": [
        {
          "output_type": "stream",
          "name": "stdout",
          "text": [
            "substraction is-63\n",
            "<class 'int'>\n"
          ]
        }
      ]
    },
    {
      "cell_type": "markdown",
      "source": [
        "# **for Float**\n",
        "\n"
      ],
      "metadata": {
        "id": "hNe80WYs6ZcY"
      }
    },
    {
      "cell_type": "code",
      "source": [
        "a=19.5\n",
        "c=8.1\n",
        "e=a+e\n",
        "print(e)\n",
        "print(type(e))\n"
      ],
      "metadata": {
        "colab": {
          "base_uri": "https://localhost:8080/"
        },
        "id": "XPQfQ0t36mMi",
        "outputId": "8499e0bc-0ae4-45cc-ba6a-75f64e2160c8"
      },
      "execution_count": null,
      "outputs": [
        {
          "output_type": "stream",
          "name": "stdout",
          "text": [
            "28.5\n",
            "<class 'float'>\n"
          ]
        }
      ]
    },
    {
      "cell_type": "code",
      "source": [
        "A=5.9\n",
        "B=15.9\n",
        "C=194.56\n",
        "D=A+B-C\n",
        "print(D)\n",
        "print(type(D))"
      ],
      "metadata": {
        "colab": {
          "base_uri": "https://localhost:8080/"
        },
        "id": "TUVXLTEG7Cxu",
        "outputId": "43ef35c6-b229-40df-adba-2ff9fae9b530"
      },
      "execution_count": null,
      "outputs": [
        {
          "output_type": "stream",
          "name": "stdout",
          "text": [
            "-172.76\n",
            "<class 'float'>\n"
          ]
        }
      ]
    },
    {
      "cell_type": "markdown",
      "source": [
        "**let's make it in good format**\n",
        "*  here we can also add name with your answer"
      ],
      "metadata": {
        "id": "1eaEtodMAxAb"
      }
    },
    {
      "cell_type": "code",
      "source": [
        "A=5.989\n",
        "B=199.1\n",
        "C=156.12\n",
        "D=A+B-C\n",
        "print(f'answer is {D}')\n",
        "print(type(D))\n"
      ],
      "metadata": {
        "colab": {
          "base_uri": "https://localhost:8080/"
        },
        "id": "MKxuDlr-Abb6",
        "outputId": "119cbe50-5189-46b7-b99b-52a8ca37580d"
      },
      "execution_count": null,
      "outputs": [
        {
          "output_type": "stream",
          "name": "stdout",
          "text": [
            "answer is 48.968999999999994\n",
            "<class 'float'>\n"
          ]
        }
      ]
    },
    {
      "cell_type": "markdown",
      "source": [
        "# **For Boolean**"
      ],
      "metadata": {
        "id": "FuoBrXx28Idk"
      }
    },
    {
      "cell_type": "code",
      "source": [
        "A=19\n",
        "B=16\n",
        "C=A>B\n",
        "print(C)\n",
        "print(type(C))"
      ],
      "metadata": {
        "colab": {
          "base_uri": "https://localhost:8080/"
        },
        "id": "BBzwpetm7uNn",
        "outputId": "dd26a57f-8b42-431c-fd14-6cfd6c1946f4"
      },
      "execution_count": null,
      "outputs": [
        {
          "output_type": "stream",
          "name": "stdout",
          "text": [
            "True\n",
            "<class 'bool'>\n"
          ]
        }
      ]
    },
    {
      "cell_type": "code",
      "source": [
        "A=159999853465\n",
        "B=186913437693\n",
        "D=21389769421\n",
        "C=A>B>D\n",
        "print(C)\n",
        "print(type(C))"
      ],
      "metadata": {
        "colab": {
          "base_uri": "https://localhost:8080/"
        },
        "id": "2c561DDt8GUo",
        "outputId": "337f4160-1be7-402f-d9e8-752bbc35aa09"
      },
      "execution_count": null,
      "outputs": [
        {
          "output_type": "stream",
          "name": "stdout",
          "text": [
            "False\n",
            "<class 'bool'>\n"
          ]
        }
      ]
    },
    {
      "cell_type": "code",
      "source": [
        "A=159999853465\n",
        "B=186913437693\n",
        "D=21389769421\n",
        "C=A>B>D\n",
        "print(f'The following condition is {C}')\n",
        "print(type(C))"
      ],
      "metadata": {
        "colab": {
          "base_uri": "https://localhost:8080/"
        },
        "id": "k3TdrdaHCUvT",
        "outputId": "a56806d0-bd8d-4d5e-8b9e-2047818ba7e3"
      },
      "execution_count": null,
      "outputs": [
        {
          "output_type": "stream",
          "name": "stdout",
          "text": [
            "The following condition is False\n",
            "<class 'bool'>\n"
          ]
        }
      ]
    },
    {
      "cell_type": "markdown",
      "source": [
        "we can learn databases and addision , subtraction"
      ],
      "metadata": {
        "id": "AmOsAX55DBRf"
      }
    },
    {
      "cell_type": "markdown",
      "source": [
        "# for addition subtraction division and multiplication"
      ],
      "metadata": {
        "id": "sZLQcwueDfkM"
      }
    },
    {
      "cell_type": "markdown",
      "source": [
        "**Addition**"
      ],
      "metadata": {
        "id": "K-qZT0Y3EI_r"
      }
    },
    {
      "cell_type": "code",
      "source": [
        "A=12\n",
        "B=61\n",
        "C=A+B\n",
        "print(C)"
      ],
      "metadata": {
        "colab": {
          "base_uri": "https://localhost:8080/"
        },
        "id": "fTAtVgoS8qec",
        "outputId": "926020e0-7cc8-48b1-c0f3-7a358e5daf37"
      },
      "execution_count": null,
      "outputs": [
        {
          "output_type": "stream",
          "name": "stdout",
          "text": [
            "73\n"
          ]
        }
      ]
    },
    {
      "cell_type": "code",
      "source": [
        "A=127\n",
        "B=596\n",
        "C=A+B\n",
        "print(f'addition is {C}')"
      ],
      "metadata": {
        "colab": {
          "base_uri": "https://localhost:8080/"
        },
        "id": "FJr6hj3oEWyF",
        "outputId": "76a2f78c-980e-4ec2-8fb6-daa2acc5c14f"
      },
      "execution_count": null,
      "outputs": [
        {
          "output_type": "stream",
          "name": "stdout",
          "text": [
            "addition is 723\n"
          ]
        }
      ]
    },
    {
      "cell_type": "markdown",
      "source": [
        "Subtraction"
      ],
      "metadata": {
        "id": "F4NoKE2GFStM"
      }
    },
    {
      "cell_type": "code",
      "source": [
        "A=183\n",
        "B=943\n",
        "C=A-B\n",
        "print(C)"
      ],
      "metadata": {
        "colab": {
          "base_uri": "https://localhost:8080/"
        },
        "id": "uwKF1I6mFLyu",
        "outputId": "f85de3e3-a3b3-4ff1-b09c-0eec0b474bfe"
      },
      "execution_count": null,
      "outputs": [
        {
          "output_type": "stream",
          "name": "stdout",
          "text": [
            "-760\n"
          ]
        }
      ]
    },
    {
      "cell_type": "code",
      "source": [
        "A=945\n",
        "B=62\n",
        "C=94\n",
        "D=A-B-C\n",
        "print(f'subtraction is {D}')"
      ],
      "metadata": {
        "colab": {
          "base_uri": "https://localhost:8080/"
        },
        "id": "9UXQh_g0FwOh",
        "outputId": "fd8367ff-07e2-48c2-be3a-c02b229efef1"
      },
      "execution_count": null,
      "outputs": [
        {
          "output_type": "stream",
          "name": "stdout",
          "text": [
            "subtraction is 789\n"
          ]
        }
      ]
    },
    {
      "cell_type": "markdown",
      "source": [
        "multiplication"
      ],
      "metadata": {
        "id": "FSEmNNExGP5G"
      }
    },
    {
      "cell_type": "code",
      "source": [
        "A=11\n",
        "B=6\n",
        "C=A*B\n",
        "print(C)"
      ],
      "metadata": {
        "colab": {
          "base_uri": "https://localhost:8080/"
        },
        "id": "OINt6sONGIIS",
        "outputId": "51ae55c7-d5f0-4555-97d2-83fff9f294d2"
      },
      "execution_count": null,
      "outputs": [
        {
          "output_type": "stream",
          "name": "stdout",
          "text": [
            "66\n"
          ]
        }
      ]
    },
    {
      "cell_type": "code",
      "source": [
        "A=15\n",
        "B=10\n",
        "C=A*B\n",
        "print(f'multiplication is {C}')\n",
        "print(type(C))"
      ],
      "metadata": {
        "colab": {
          "base_uri": "https://localhost:8080/"
        },
        "id": "7HpnkIf_Gnth",
        "outputId": "98ef11c0-0027-417c-81f0-7a99ead7523d"
      },
      "execution_count": null,
      "outputs": [
        {
          "output_type": "stream",
          "name": "stdout",
          "text": [
            "multiplication is 150\n",
            "<class 'int'>\n"
          ]
        }
      ]
    },
    {
      "cell_type": "markdown",
      "source": [
        "Division"
      ],
      "metadata": {
        "id": "WA-jJvAqHviw"
      }
    },
    {
      "cell_type": "code",
      "source": [
        "A=911\n",
        "B=15\n",
        "C=A/B\n",
        "print(C)\n",
        "print(type(C))"
      ],
      "metadata": {
        "colab": {
          "base_uri": "https://localhost:8080/"
        },
        "id": "BfJTVVcLHLRN",
        "outputId": "3957cc87-95ad-4891-eb68-dfbd59faf22d"
      },
      "execution_count": null,
      "outputs": [
        {
          "output_type": "stream",
          "name": "stdout",
          "text": [
            "60.733333333333334\n",
            "<class 'float'>\n"
          ]
        }
      ]
    },
    {
      "cell_type": "code",
      "source": [
        "A=900\n",
        "B=20\n",
        "C=A/B\n",
        "print(f'division is {C}')"
      ],
      "metadata": {
        "colab": {
          "base_uri": "https://localhost:8080/"
        },
        "id": "5o_glVIYIFym",
        "outputId": "53507f22-8106-44e2-8544-14ff11b97d8b"
      },
      "execution_count": null,
      "outputs": [
        {
          "output_type": "stream",
          "name": "stdout",
          "text": [
            "division is 45.0\n"
          ]
        }
      ]
    },
    {
      "cell_type": "markdown",
      "source": [
        "for power"
      ],
      "metadata": {
        "id": "XVrEa640KXS2"
      }
    },
    {
      "cell_type": "code",
      "source": [
        "A=2\n",
        "B=3\n",
        "C=A**B\n",
        "print(C)"
      ],
      "metadata": {
        "colab": {
          "base_uri": "https://localhost:8080/"
        },
        "id": "2YAbEsrxJegf",
        "outputId": "56831b63-3cc3-44c8-c7dd-d80d4b7610d7"
      },
      "execution_count": null,
      "outputs": [
        {
          "output_type": "stream",
          "name": "stdout",
          "text": [
            "8\n"
          ]
        }
      ]
    },
    {
      "cell_type": "code",
      "source": [
        "A=5\n",
        "B=2\n",
        "C=A**B\n",
        "print(f'{A} to the power {B} is {C} ')"
      ],
      "metadata": {
        "colab": {
          "base_uri": "https://localhost:8080/"
        },
        "id": "Anh-7Qy6KyzI",
        "outputId": "c945f026-9573-463c-fdf9-29c849e041cf"
      },
      "execution_count": null,
      "outputs": [
        {
          "output_type": "stream",
          "name": "stdout",
          "text": [
            "5 to the power 2 is 25 \n"
          ]
        }
      ]
    },
    {
      "cell_type": "code",
      "source": [
        "A=17\n",
        "B=3\n",
        "C=A%B\n",
        "print(f' modulus is {C}')"
      ],
      "metadata": {
        "colab": {
          "base_uri": "https://localhost:8080/"
        },
        "id": "NPJMVpliLato",
        "outputId": "c4f4681a-be6d-4026-a3d9-4f993ef89bb9"
      },
      "execution_count": null,
      "outputs": [
        {
          "output_type": "stream",
          "name": "stdout",
          "text": [
            " modulus is 2\n"
          ]
        }
      ]
    },
    {
      "cell_type": "code",
      "source": [
        "\n",
        "A=int(input(f'enter your: '))\n",
        "if  A>=35:\n",
        "    print('you are pass')\n",
        "else:\n",
        "    print('you are fail')\n",
        "\n"
      ],
      "metadata": {
        "colab": {
          "base_uri": "https://localhost:8080/"
        },
        "id": "9Cw0d6M6L9MW",
        "outputId": "c416495e-18b8-41d4-a988-750031878bd6"
      },
      "execution_count": null,
      "outputs": [
        {
          "output_type": "stream",
          "name": "stdout",
          "text": [
            "enter your: 12\n",
            "you are fail\n"
          ]
        }
      ]
    },
    {
      "cell_type": "code",
      "source": [],
      "metadata": {
        "id": "rZWIg7LBYehf"
      },
      "execution_count": null,
      "outputs": []
    }
  ]
}
