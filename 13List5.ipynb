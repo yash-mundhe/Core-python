{
  "nbformat": 4,
  "nbformat_minor": 0,
  "metadata": {
    "colab": {
      "provenance": []
    },
    "kernelspec": {
      "name": "python3",
      "display_name": "Python 3"
    },
    "language_info": {
      "name": "python"
    }
  },
  "cells": [
    {
      "cell_type": "markdown",
      "source": [
        "**create a new list having squares of the numbers in first list**"
      ],
      "metadata": {
        "id": "ekpnfrdy6OmD"
      }
    },
    {
      "cell_type": "code",
      "execution_count": null,
      "metadata": {
        "colab": {
          "base_uri": "https://localhost:8080/"
        },
        "id": "s4Wx0V_z6NcB",
        "outputId": "90c0f656-4c30-41ad-cc47-a76439797be3"
      },
      "outputs": [
        {
          "output_type": "stream",
          "name": "stdout",
          "text": [
            "[81, 25, 4, 16, 36, 16, 49, 36, 1]\n"
          ]
        }
      ],
      "source": [
        "lst=[9,5,2,4,6,4,7,6,1]\n",
        "sq=[]\n",
        "for n in lst:\n",
        "   sq.append(n*n)\n",
        "\n",
        "print(sq)"
      ]
    },
    {
      "cell_type": "code",
      "source": [
        "lst=[12,11,8,6,4,3,8,13]\n",
        "sq=[n*n for n in lst]\n",
        "print(sq)"
      ],
      "metadata": {
        "colab": {
          "base_uri": "https://localhost:8080/"
        },
        "id": "7aGoMnVi-EvO",
        "outputId": "07a720c2-90d9-404f-be54-c8e8986f9f61"
      },
      "execution_count": null,
      "outputs": [
        {
          "output_type": "stream",
          "name": "stdout",
          "text": [
            "[144, 121, 64, 36, 16, 9, 64, 169]\n"
          ]
        }
      ]
    },
    {
      "cell_type": "code",
      "source": [
        "lst=['yash','sakshi','sarthak']\n",
        "y=[nm.upper() for nm in lst]\n",
        "print(y)"
      ],
      "metadata": {
        "colab": {
          "base_uri": "https://localhost:8080/"
        },
        "id": "-zSVXjkeAY0G",
        "outputId": "6bfc285b-0b90-43de-9c08-bc0fb97f8e80"
      },
      "execution_count": null,
      "outputs": [
        {
          "output_type": "stream",
          "name": "stdout",
          "text": [
            "['YASH', 'SAKSHI', 'SARTHAK']\n"
          ]
        }
      ]
    },
    {
      "cell_type": "markdown",
      "source": [
        "**create a list of odd numbers from the provided list values**"
      ],
      "metadata": {
        "id": "6GL4810aC5CN"
      }
    },
    {
      "cell_type": "code",
      "source": [
        "lst=[9,6,12,15,9,43,11,32]\n",
        "odd=[x for x in lst if x%2==1]\n",
        "print('Odd numbers in the list- ')\n",
        "print(odd)"
      ],
      "metadata": {
        "colab": {
          "base_uri": "https://localhost:8080/"
        },
        "id": "mnyq1VI8CimA",
        "outputId": "6f8e6847-0eb1-4662-8575-85d1e15a63b0"
      },
      "execution_count": null,
      "outputs": [
        {
          "output_type": "stream",
          "name": "stdout",
          "text": [
            "Odd numbers in the list- \n",
            "[9, 15, 9, 43, 11]\n"
          ]
        }
      ]
    },
    {
      "cell_type": "code",
      "source": [
        "lst=[9,13,26,1,45,10,30,15,18,25]\n",
        "even=[x for x in lst if x%2==0]\n",
        "print(even)"
      ],
      "metadata": {
        "colab": {
          "base_uri": "https://localhost:8080/"
        },
        "id": "S8wrg9UnEdCf",
        "outputId": "1f0af2c1-52d1-4fbb-defb-41cd05a09d20"
      },
      "execution_count": null,
      "outputs": [
        {
          "output_type": "stream",
          "name": "stdout",
          "text": [
            "[26, 10, 30, 18]\n"
          ]
        }
      ]
    },
    {
      "cell_type": "code",
      "source": [
        "lst=[9,-13,26,1,45,-10,30,15,-18,25]\n",
        "neg=[x for x in lst if x<0]\n",
        "print(neg)\n"
      ],
      "metadata": {
        "colab": {
          "base_uri": "https://localhost:8080/"
        },
        "id": "_vou6AImE3U5",
        "outputId": "22d810b9-8338-4052-a620-aa28dc00a45b"
      },
      "execution_count": null,
      "outputs": [
        {
          "output_type": "stream",
          "name": "stdout",
          "text": [
            "[-13, -10, -18]\n"
          ]
        }
      ]
    },
    {
      "cell_type": "markdown",
      "source": [
        "\n",
        "\n",
        "numbers fully divisible by 3\n"
      ],
      "metadata": {
        "id": "ETTAjVyxE8g5"
      }
    },
    {
      "cell_type": "code",
      "source": [
        "lst=[9,13,26,1,45,10,30,15,18,25]\n",
        "res=[x for x in lst if x%3==0]\n",
        "print(res)"
      ],
      "metadata": {
        "colab": {
          "base_uri": "https://localhost:8080/"
        },
        "id": "3jllCXMrE50h",
        "outputId": "ffafa818-a79f-493c-d3e2-7d1aea667860"
      },
      "execution_count": null,
      "outputs": [
        {
          "output_type": "stream",
          "name": "stdout",
          "text": [
            "[9, 45, 30, 15, 18]\n"
          ]
        }
      ]
    },
    {
      "cell_type": "code",
      "source": [
        "l1=[2,14,25,57,13]\n",
        "l2=[1,5,2,13,9,26,14]\n",
        "common=[x for x in l1 if x in l2]\n",
        "print(common)\n"
      ],
      "metadata": {
        "colab": {
          "base_uri": "https://localhost:8080/"
        },
        "id": "GDFhLlTZFAr_",
        "outputId": "fd5185f4-37a7-4a82-9a32-d10c7271c26f"
      },
      "execution_count": null,
      "outputs": [
        {
          "output_type": "stream",
          "name": "stdout",
          "text": [
            "[2, 14, 13]\n"
          ]
        }
      ]
    },
    {
      "cell_type": "code",
      "source": [
        "l1=[2,14,25,57,13]\n",
        "l2=[1,5,2,13,9,26,14]\n",
        "uncommon=[x for x in l1 if x not in l2]\n",
        "print(uncommon)\n"
      ],
      "metadata": {
        "colab": {
          "base_uri": "https://localhost:8080/"
        },
        "id": "5XTHwZG9FDcx",
        "outputId": "dff3220c-385a-455e-b9e3-5a1ee55c0cc7"
      },
      "execution_count": null,
      "outputs": [
        {
          "output_type": "stream",
          "name": "stdout",
          "text": [
            "[25, 57]\n"
          ]
        }
      ]
    },
    {
      "cell_type": "code",
      "source": [
        "nm1=['jos buttler','joe root','mohammed salah','pat cummins']\n",
        "nm2=['steve smith','ben stokes','joe root','mitchell stark','charles leclerc']\n",
        "common=[x for x in nm1 if x in nm2]\n",
        "print(common)\n"
      ],
      "metadata": {
        "colab": {
          "base_uri": "https://localhost:8080/"
        },
        "id": "LuVFOFYJFH22",
        "outputId": "31b3d5a7-d602-4f65-f6f9-b4fcf6a2ab5e"
      },
      "execution_count": null,
      "outputs": [
        {
          "output_type": "stream",
          "name": "stdout",
          "text": [
            "['joe root']\n"
          ]
        }
      ]
    },
    {
      "cell_type": "code",
      "source": [],
      "metadata": {
        "id": "ezfGdNOcFKr_"
      },
      "execution_count": null,
      "outputs": []
    }
  ]
}